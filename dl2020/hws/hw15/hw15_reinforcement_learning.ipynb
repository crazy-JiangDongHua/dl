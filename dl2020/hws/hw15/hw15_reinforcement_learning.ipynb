{
  "nbformat": 4,
  "nbformat_minor": 0,
  "metadata": {
    "colab": {
      "name": "hw15_reinforcement_learning.ipynb",
      "provenance": [],
      "collapsed_sections": [],
      "toc_visible": true
    },
    "kernelspec": {
      "name": "python3",
      "display_name": "Python 3"
    },
    "widgets": {
      "application/vnd.jupyter.widget-state+json": {
        "f0dee5efdbc34489a94fcaeab06a75ca": {
          "model_module": "@jupyter-widgets/controls",
          "model_name": "HBoxModel",
          "model_module_version": "1.5.0",
          "state": {
            "_view_name": "HBoxView",
            "_dom_classes": [],
            "_model_name": "HBoxModel",
            "_view_module": "@jupyter-widgets/controls",
            "_model_module_version": "1.5.0",
            "_view_count": null,
            "_view_module_version": "1.5.0",
            "box_style": "",
            "layout": "IPY_MODEL_37140b88856647a99be9455b36c88d85",
            "_model_module": "@jupyter-widgets/controls",
            "children": [
              "IPY_MODEL_d8dc9abac1864a02a146b70502a16e54",
              "IPY_MODEL_a44a0fe79d9d4841a0a07f85e5dd6eb4",
              "IPY_MODEL_a5328960f32844a295912eda7a435e7a"
            ]
          }
        },
        "37140b88856647a99be9455b36c88d85": {
          "model_module": "@jupyter-widgets/base",
          "model_name": "LayoutModel",
          "model_module_version": "1.2.0",
          "state": {
            "_view_name": "LayoutView",
            "grid_template_rows": null,
            "right": null,
            "justify_content": null,
            "_view_module": "@jupyter-widgets/base",
            "overflow": null,
            "_model_module_version": "1.2.0",
            "_view_count": null,
            "flex_flow": null,
            "width": null,
            "min_width": null,
            "border": null,
            "align_items": null,
            "bottom": null,
            "_model_module": "@jupyter-widgets/base",
            "top": null,
            "grid_column": null,
            "overflow_y": null,
            "overflow_x": null,
            "grid_auto_flow": null,
            "grid_area": null,
            "grid_template_columns": null,
            "flex": null,
            "_model_name": "LayoutModel",
            "justify_items": null,
            "grid_row": null,
            "max_height": null,
            "align_content": null,
            "visibility": null,
            "align_self": null,
            "height": null,
            "min_height": null,
            "padding": null,
            "grid_auto_rows": null,
            "grid_gap": null,
            "max_width": null,
            "order": null,
            "_view_module_version": "1.2.0",
            "grid_template_areas": null,
            "object_position": null,
            "object_fit": null,
            "grid_auto_columns": null,
            "margin": null,
            "display": null,
            "left": null
          }
        },
        "d8dc9abac1864a02a146b70502a16e54": {
          "model_module": "@jupyter-widgets/controls",
          "model_name": "HTMLModel",
          "model_module_version": "1.5.0",
          "state": {
            "_view_name": "HTMLView",
            "style": "IPY_MODEL_68446bdceb1046fa8279c69f5d8c2ea4",
            "_dom_classes": [],
            "description": "",
            "_model_name": "HTMLModel",
            "placeholder": "​",
            "_view_module": "@jupyter-widgets/controls",
            "_model_module_version": "1.5.0",
            "value": "Total: -112.6, Final: -100.0: 100%",
            "_view_count": null,
            "_view_module_version": "1.5.0",
            "description_tooltip": null,
            "_model_module": "@jupyter-widgets/controls",
            "layout": "IPY_MODEL_5ebfebe1739e449ab60994e70f638fad"
          }
        },
        "a44a0fe79d9d4841a0a07f85e5dd6eb4": {
          "model_module": "@jupyter-widgets/controls",
          "model_name": "FloatProgressModel",
          "model_module_version": "1.5.0",
          "state": {
            "_view_name": "ProgressView",
            "style": "IPY_MODEL_d54207400f1344b582aee23c31555ffa",
            "_dom_classes": [],
            "description": "",
            "_model_name": "FloatProgressModel",
            "bar_style": "success",
            "max": 400,
            "_view_module": "@jupyter-widgets/controls",
            "_model_module_version": "1.5.0",
            "value": 400,
            "_view_count": null,
            "_view_module_version": "1.5.0",
            "orientation": "horizontal",
            "min": 0,
            "description_tooltip": null,
            "_model_module": "@jupyter-widgets/controls",
            "layout": "IPY_MODEL_7fbcd54cd1bc40a28cc56d0bedb3e040"
          }
        },
        "a5328960f32844a295912eda7a435e7a": {
          "model_module": "@jupyter-widgets/controls",
          "model_name": "HTMLModel",
          "model_module_version": "1.5.0",
          "state": {
            "_view_name": "HTMLView",
            "style": "IPY_MODEL_5df05d90c57a4e36bd81b6cc5a522927",
            "_dom_classes": [],
            "description": "",
            "_model_name": "HTMLModel",
            "placeholder": "​",
            "_view_module": "@jupyter-widgets/controls",
            "_model_module_version": "1.5.0",
            "value": " 400/400 [02:56&lt;00:00,  2.26it/s]",
            "_view_count": null,
            "_view_module_version": "1.5.0",
            "description_tooltip": null,
            "_model_module": "@jupyter-widgets/controls",
            "layout": "IPY_MODEL_8c748a480d564f2490affd79ebf71d25"
          }
        },
        "68446bdceb1046fa8279c69f5d8c2ea4": {
          "model_module": "@jupyter-widgets/controls",
          "model_name": "DescriptionStyleModel",
          "model_module_version": "1.5.0",
          "state": {
            "_view_name": "StyleView",
            "_model_name": "DescriptionStyleModel",
            "description_width": "",
            "_view_module": "@jupyter-widgets/base",
            "_model_module_version": "1.5.0",
            "_view_count": null,
            "_view_module_version": "1.2.0",
            "_model_module": "@jupyter-widgets/controls"
          }
        },
        "5ebfebe1739e449ab60994e70f638fad": {
          "model_module": "@jupyter-widgets/base",
          "model_name": "LayoutModel",
          "model_module_version": "1.2.0",
          "state": {
            "_view_name": "LayoutView",
            "grid_template_rows": null,
            "right": null,
            "justify_content": null,
            "_view_module": "@jupyter-widgets/base",
            "overflow": null,
            "_model_module_version": "1.2.0",
            "_view_count": null,
            "flex_flow": null,
            "width": null,
            "min_width": null,
            "border": null,
            "align_items": null,
            "bottom": null,
            "_model_module": "@jupyter-widgets/base",
            "top": null,
            "grid_column": null,
            "overflow_y": null,
            "overflow_x": null,
            "grid_auto_flow": null,
            "grid_area": null,
            "grid_template_columns": null,
            "flex": null,
            "_model_name": "LayoutModel",
            "justify_items": null,
            "grid_row": null,
            "max_height": null,
            "align_content": null,
            "visibility": null,
            "align_self": null,
            "height": null,
            "min_height": null,
            "padding": null,
            "grid_auto_rows": null,
            "grid_gap": null,
            "max_width": null,
            "order": null,
            "_view_module_version": "1.2.0",
            "grid_template_areas": null,
            "object_position": null,
            "object_fit": null,
            "grid_auto_columns": null,
            "margin": null,
            "display": null,
            "left": null
          }
        },
        "d54207400f1344b582aee23c31555ffa": {
          "model_module": "@jupyter-widgets/controls",
          "model_name": "ProgressStyleModel",
          "model_module_version": "1.5.0",
          "state": {
            "_view_name": "StyleView",
            "_model_name": "ProgressStyleModel",
            "description_width": "",
            "_view_module": "@jupyter-widgets/base",
            "_model_module_version": "1.5.0",
            "_view_count": null,
            "_view_module_version": "1.2.0",
            "bar_color": null,
            "_model_module": "@jupyter-widgets/controls"
          }
        },
        "7fbcd54cd1bc40a28cc56d0bedb3e040": {
          "model_module": "@jupyter-widgets/base",
          "model_name": "LayoutModel",
          "model_module_version": "1.2.0",
          "state": {
            "_view_name": "LayoutView",
            "grid_template_rows": null,
            "right": null,
            "justify_content": null,
            "_view_module": "@jupyter-widgets/base",
            "overflow": null,
            "_model_module_version": "1.2.0",
            "_view_count": null,
            "flex_flow": null,
            "width": null,
            "min_width": null,
            "border": null,
            "align_items": null,
            "bottom": null,
            "_model_module": "@jupyter-widgets/base",
            "top": null,
            "grid_column": null,
            "overflow_y": null,
            "overflow_x": null,
            "grid_auto_flow": null,
            "grid_area": null,
            "grid_template_columns": null,
            "flex": null,
            "_model_name": "LayoutModel",
            "justify_items": null,
            "grid_row": null,
            "max_height": null,
            "align_content": null,
            "visibility": null,
            "align_self": null,
            "height": null,
            "min_height": null,
            "padding": null,
            "grid_auto_rows": null,
            "grid_gap": null,
            "max_width": null,
            "order": null,
            "_view_module_version": "1.2.0",
            "grid_template_areas": null,
            "object_position": null,
            "object_fit": null,
            "grid_auto_columns": null,
            "margin": null,
            "display": null,
            "left": null
          }
        },
        "5df05d90c57a4e36bd81b6cc5a522927": {
          "model_module": "@jupyter-widgets/controls",
          "model_name": "DescriptionStyleModel",
          "model_module_version": "1.5.0",
          "state": {
            "_view_name": "StyleView",
            "_model_name": "DescriptionStyleModel",
            "description_width": "",
            "_view_module": "@jupyter-widgets/base",
            "_model_module_version": "1.5.0",
            "_view_count": null,
            "_view_module_version": "1.2.0",
            "_model_module": "@jupyter-widgets/controls"
          }
        },
        "8c748a480d564f2490affd79ebf71d25": {
          "model_module": "@jupyter-widgets/base",
          "model_name": "LayoutModel",
          "model_module_version": "1.2.0",
          "state": {
            "_view_name": "LayoutView",
            "grid_template_rows": null,
            "right": null,
            "justify_content": null,
            "_view_module": "@jupyter-widgets/base",
            "overflow": null,
            "_model_module_version": "1.2.0",
            "_view_count": null,
            "flex_flow": null,
            "width": null,
            "min_width": null,
            "border": null,
            "align_items": null,
            "bottom": null,
            "_model_module": "@jupyter-widgets/base",
            "top": null,
            "grid_column": null,
            "overflow_y": null,
            "overflow_x": null,
            "grid_auto_flow": null,
            "grid_area": null,
            "grid_template_columns": null,
            "flex": null,
            "_model_name": "LayoutModel",
            "justify_items": null,
            "grid_row": null,
            "max_height": null,
            "align_content": null,
            "visibility": null,
            "align_self": null,
            "height": null,
            "min_height": null,
            "padding": null,
            "grid_auto_rows": null,
            "grid_gap": null,
            "max_width": null,
            "order": null,
            "_view_module_version": "1.2.0",
            "grid_template_areas": null,
            "object_position": null,
            "object_fit": null,
            "grid_auto_columns": null,
            "margin": null,
            "display": null,
            "left": null
          }
        },
        "802841a7574b4ecc9575e63a847a0681": {
          "model_module": "@jupyter-widgets/controls",
          "model_name": "HBoxModel",
          "model_module_version": "1.5.0",
          "state": {
            "_view_name": "HBoxView",
            "_dom_classes": [],
            "_model_name": "HBoxModel",
            "_view_module": "@jupyter-widgets/controls",
            "_model_module_version": "1.5.0",
            "_view_count": null,
            "_view_module_version": "1.5.0",
            "box_style": "",
            "layout": "IPY_MODEL_1865f30c334f4bd39b9c42873f8dfb86",
            "_model_module": "@jupyter-widgets/controls",
            "children": [
              "IPY_MODEL_eb42c5222cec4453b72c5dfd4dbb57af",
              "IPY_MODEL_78d766ef23e94a698eb42b371e0450aa",
              "IPY_MODEL_33147a5965c24c14bc545da09a2af003"
            ]
          }
        },
        "1865f30c334f4bd39b9c42873f8dfb86": {
          "model_module": "@jupyter-widgets/base",
          "model_name": "LayoutModel",
          "model_module_version": "1.2.0",
          "state": {
            "_view_name": "LayoutView",
            "grid_template_rows": null,
            "right": null,
            "justify_content": null,
            "_view_module": "@jupyter-widgets/base",
            "overflow": null,
            "_model_module_version": "1.2.0",
            "_view_count": null,
            "flex_flow": null,
            "width": null,
            "min_width": null,
            "border": null,
            "align_items": null,
            "bottom": null,
            "_model_module": "@jupyter-widgets/base",
            "top": null,
            "grid_column": null,
            "overflow_y": null,
            "overflow_x": null,
            "grid_auto_flow": null,
            "grid_area": null,
            "grid_template_columns": null,
            "flex": null,
            "_model_name": "LayoutModel",
            "justify_items": null,
            "grid_row": null,
            "max_height": null,
            "align_content": null,
            "visibility": null,
            "align_self": null,
            "height": null,
            "min_height": null,
            "padding": null,
            "grid_auto_rows": null,
            "grid_gap": null,
            "max_width": null,
            "order": null,
            "_view_module_version": "1.2.0",
            "grid_template_areas": null,
            "object_position": null,
            "object_fit": null,
            "grid_auto_columns": null,
            "margin": null,
            "display": null,
            "left": null
          }
        },
        "eb42c5222cec4453b72c5dfd4dbb57af": {
          "model_module": "@jupyter-widgets/controls",
          "model_name": "HTMLModel",
          "model_module_version": "1.5.0",
          "state": {
            "_view_name": "HTMLView",
            "style": "IPY_MODEL_0245c965f36b4857802d98b62c45d578",
            "_dom_classes": [],
            "description": "",
            "_model_name": "HTMLModel",
            "placeholder": "​",
            "_view_module": "@jupyter-widgets/controls",
            "_model_module_version": "1.5.0",
            "value": "Total:  88.7, Final: -39.8: 100%",
            "_view_count": null,
            "_view_module_version": "1.5.0",
            "description_tooltip": null,
            "_model_module": "@jupyter-widgets/controls",
            "layout": "IPY_MODEL_6ea58fb11dbd45118056c49a3197858f"
          }
        },
        "78d766ef23e94a698eb42b371e0450aa": {
          "model_module": "@jupyter-widgets/controls",
          "model_name": "FloatProgressModel",
          "model_module_version": "1.5.0",
          "state": {
            "_view_name": "ProgressView",
            "style": "IPY_MODEL_0f67c18a6a614b829bfc4b08ec743eef",
            "_dom_classes": [],
            "description": "",
            "_model_name": "FloatProgressModel",
            "bar_style": "success",
            "max": 1200,
            "_view_module": "@jupyter-widgets/controls",
            "_model_module_version": "1.5.0",
            "value": 1200,
            "_view_count": null,
            "_view_module_version": "1.5.0",
            "orientation": "horizontal",
            "min": 0,
            "description_tooltip": null,
            "_model_module": "@jupyter-widgets/controls",
            "layout": "IPY_MODEL_292dc415b08e47c095a216c322584858"
          }
        },
        "33147a5965c24c14bc545da09a2af003": {
          "model_module": "@jupyter-widgets/controls",
          "model_name": "HTMLModel",
          "model_module_version": "1.5.0",
          "state": {
            "_view_name": "HTMLView",
            "style": "IPY_MODEL_3670e9e1226e40fe9ae9eff22bd40a35",
            "_dom_classes": [],
            "description": "",
            "_model_name": "HTMLModel",
            "placeholder": "​",
            "_view_module": "@jupyter-widgets/controls",
            "_model_module_version": "1.5.0",
            "value": " 1200/1200 [41:11&lt;00:00,  4.63s/it]",
            "_view_count": null,
            "_view_module_version": "1.5.0",
            "description_tooltip": null,
            "_model_module": "@jupyter-widgets/controls",
            "layout": "IPY_MODEL_0a0c8bce10714d7da5f9de21c30c476b"
          }
        },
        "0245c965f36b4857802d98b62c45d578": {
          "model_module": "@jupyter-widgets/controls",
          "model_name": "DescriptionStyleModel",
          "model_module_version": "1.5.0",
          "state": {
            "_view_name": "StyleView",
            "_model_name": "DescriptionStyleModel",
            "description_width": "",
            "_view_module": "@jupyter-widgets/base",
            "_model_module_version": "1.5.0",
            "_view_count": null,
            "_view_module_version": "1.2.0",
            "_model_module": "@jupyter-widgets/controls"
          }
        },
        "6ea58fb11dbd45118056c49a3197858f": {
          "model_module": "@jupyter-widgets/base",
          "model_name": "LayoutModel",
          "model_module_version": "1.2.0",
          "state": {
            "_view_name": "LayoutView",
            "grid_template_rows": null,
            "right": null,
            "justify_content": null,
            "_view_module": "@jupyter-widgets/base",
            "overflow": null,
            "_model_module_version": "1.2.0",
            "_view_count": null,
            "flex_flow": null,
            "width": null,
            "min_width": null,
            "border": null,
            "align_items": null,
            "bottom": null,
            "_model_module": "@jupyter-widgets/base",
            "top": null,
            "grid_column": null,
            "overflow_y": null,
            "overflow_x": null,
            "grid_auto_flow": null,
            "grid_area": null,
            "grid_template_columns": null,
            "flex": null,
            "_model_name": "LayoutModel",
            "justify_items": null,
            "grid_row": null,
            "max_height": null,
            "align_content": null,
            "visibility": null,
            "align_self": null,
            "height": null,
            "min_height": null,
            "padding": null,
            "grid_auto_rows": null,
            "grid_gap": null,
            "max_width": null,
            "order": null,
            "_view_module_version": "1.2.0",
            "grid_template_areas": null,
            "object_position": null,
            "object_fit": null,
            "grid_auto_columns": null,
            "margin": null,
            "display": null,
            "left": null
          }
        },
        "0f67c18a6a614b829bfc4b08ec743eef": {
          "model_module": "@jupyter-widgets/controls",
          "model_name": "ProgressStyleModel",
          "model_module_version": "1.5.0",
          "state": {
            "_view_name": "StyleView",
            "_model_name": "ProgressStyleModel",
            "description_width": "",
            "_view_module": "@jupyter-widgets/base",
            "_model_module_version": "1.5.0",
            "_view_count": null,
            "_view_module_version": "1.2.0",
            "bar_color": null,
            "_model_module": "@jupyter-widgets/controls"
          }
        },
        "292dc415b08e47c095a216c322584858": {
          "model_module": "@jupyter-widgets/base",
          "model_name": "LayoutModel",
          "model_module_version": "1.2.0",
          "state": {
            "_view_name": "LayoutView",
            "grid_template_rows": null,
            "right": null,
            "justify_content": null,
            "_view_module": "@jupyter-widgets/base",
            "overflow": null,
            "_model_module_version": "1.2.0",
            "_view_count": null,
            "flex_flow": null,
            "width": null,
            "min_width": null,
            "border": null,
            "align_items": null,
            "bottom": null,
            "_model_module": "@jupyter-widgets/base",
            "top": null,
            "grid_column": null,
            "overflow_y": null,
            "overflow_x": null,
            "grid_auto_flow": null,
            "grid_area": null,
            "grid_template_columns": null,
            "flex": null,
            "_model_name": "LayoutModel",
            "justify_items": null,
            "grid_row": null,
            "max_height": null,
            "align_content": null,
            "visibility": null,
            "align_self": null,
            "height": null,
            "min_height": null,
            "padding": null,
            "grid_auto_rows": null,
            "grid_gap": null,
            "max_width": null,
            "order": null,
            "_view_module_version": "1.2.0",
            "grid_template_areas": null,
            "object_position": null,
            "object_fit": null,
            "grid_auto_columns": null,
            "margin": null,
            "display": null,
            "left": null
          }
        },
        "3670e9e1226e40fe9ae9eff22bd40a35": {
          "model_module": "@jupyter-widgets/controls",
          "model_name": "DescriptionStyleModel",
          "model_module_version": "1.5.0",
          "state": {
            "_view_name": "StyleView",
            "_model_name": "DescriptionStyleModel",
            "description_width": "",
            "_view_module": "@jupyter-widgets/base",
            "_model_module_version": "1.5.0",
            "_view_count": null,
            "_view_module_version": "1.2.0",
            "_model_module": "@jupyter-widgets/controls"
          }
        },
        "0a0c8bce10714d7da5f9de21c30c476b": {
          "model_module": "@jupyter-widgets/base",
          "model_name": "LayoutModel",
          "model_module_version": "1.2.0",
          "state": {
            "_view_name": "LayoutView",
            "grid_template_rows": null,
            "right": null,
            "justify_content": null,
            "_view_module": "@jupyter-widgets/base",
            "overflow": null,
            "_model_module_version": "1.2.0",
            "_view_count": null,
            "flex_flow": null,
            "width": null,
            "min_width": null,
            "border": null,
            "align_items": null,
            "bottom": null,
            "_model_module": "@jupyter-widgets/base",
            "top": null,
            "grid_column": null,
            "overflow_y": null,
            "overflow_x": null,
            "grid_auto_flow": null,
            "grid_area": null,
            "grid_template_columns": null,
            "flex": null,
            "_model_name": "LayoutModel",
            "justify_items": null,
            "grid_row": null,
            "max_height": null,
            "align_content": null,
            "visibility": null,
            "align_self": null,
            "height": null,
            "min_height": null,
            "padding": null,
            "grid_auto_rows": null,
            "grid_gap": null,
            "max_width": null,
            "order": null,
            "_view_module_version": "1.2.0",
            "grid_template_areas": null,
            "object_position": null,
            "object_fit": null,
            "grid_auto_columns": null,
            "margin": null,
            "display": null,
            "left": null
          }
        },
        "e4bb3238da4448f09556f0f13bce886b": {
          "model_module": "@jupyter-widgets/controls",
          "model_name": "HBoxModel",
          "model_module_version": "1.5.0",
          "state": {
            "_view_name": "HBoxView",
            "_dom_classes": [],
            "_model_name": "HBoxModel",
            "_view_module": "@jupyter-widgets/controls",
            "_model_module_version": "1.5.0",
            "_view_count": null,
            "_view_module_version": "1.5.0",
            "box_style": "",
            "layout": "IPY_MODEL_4e6553c78ee742f5b123ef11b9d75798",
            "_model_module": "@jupyter-widgets/controls",
            "children": [
              "IPY_MODEL_a7fc246209334a9e89c31f606517e8fd",
              "IPY_MODEL_b45d876617f8447089593ccc19bdf07d",
              "IPY_MODEL_2d84a6241a8b42359d6ae4546b02add7"
            ]
          }
        },
        "4e6553c78ee742f5b123ef11b9d75798": {
          "model_module": "@jupyter-widgets/base",
          "model_name": "LayoutModel",
          "model_module_version": "1.2.0",
          "state": {
            "_view_name": "LayoutView",
            "grid_template_rows": null,
            "right": null,
            "justify_content": null,
            "_view_module": "@jupyter-widgets/base",
            "overflow": null,
            "_model_module_version": "1.2.0",
            "_view_count": null,
            "flex_flow": null,
            "width": null,
            "min_width": null,
            "border": null,
            "align_items": null,
            "bottom": null,
            "_model_module": "@jupyter-widgets/base",
            "top": null,
            "grid_column": null,
            "overflow_y": null,
            "overflow_x": null,
            "grid_auto_flow": null,
            "grid_area": null,
            "grid_template_columns": null,
            "flex": null,
            "_model_name": "LayoutModel",
            "justify_items": null,
            "grid_row": null,
            "max_height": null,
            "align_content": null,
            "visibility": null,
            "align_self": null,
            "height": null,
            "min_height": null,
            "padding": null,
            "grid_auto_rows": null,
            "grid_gap": null,
            "max_width": null,
            "order": null,
            "_view_module_version": "1.2.0",
            "grid_template_areas": null,
            "object_position": null,
            "object_fit": null,
            "grid_auto_columns": null,
            "margin": null,
            "display": null,
            "left": null
          }
        },
        "a7fc246209334a9e89c31f606517e8fd": {
          "model_module": "@jupyter-widgets/controls",
          "model_name": "HTMLModel",
          "model_module_version": "1.5.0",
          "state": {
            "_view_name": "HTMLView",
            "style": "IPY_MODEL_5c7eb87c849e494eac93b696283a2ab8",
            "_dom_classes": [],
            "description": "",
            "_model_name": "HTMLModel",
            "placeholder": "​",
            "_view_module": "@jupyter-widgets/controls",
            "_model_module_version": "1.5.0",
            "value": "Total: -117.8, Final: -100.0: 100%",
            "_view_count": null,
            "_view_module_version": "1.5.0",
            "description_tooltip": null,
            "_model_module": "@jupyter-widgets/controls",
            "layout": "IPY_MODEL_ad816255169b4ac9b16ed18fe4ecc75a"
          }
        },
        "b45d876617f8447089593ccc19bdf07d": {
          "model_module": "@jupyter-widgets/controls",
          "model_name": "FloatProgressModel",
          "model_module_version": "1.5.0",
          "state": {
            "_view_name": "ProgressView",
            "style": "IPY_MODEL_13607fdd26c64df18dfa7d1f9f64b67e",
            "_dom_classes": [],
            "description": "",
            "_model_name": "FloatProgressModel",
            "bar_style": "success",
            "max": 400,
            "_view_module": "@jupyter-widgets/controls",
            "_model_module_version": "1.5.0",
            "value": 400,
            "_view_count": null,
            "_view_module_version": "1.5.0",
            "orientation": "horizontal",
            "min": 0,
            "description_tooltip": null,
            "_model_module": "@jupyter-widgets/controls",
            "layout": "IPY_MODEL_8d6686f91ba745f0addcb8d69d9d9379"
          }
        },
        "2d84a6241a8b42359d6ae4546b02add7": {
          "model_module": "@jupyter-widgets/controls",
          "model_name": "HTMLModel",
          "model_module_version": "1.5.0",
          "state": {
            "_view_name": "HTMLView",
            "style": "IPY_MODEL_f4f0197b06c941708b40d37ea429b79d",
            "_dom_classes": [],
            "description": "",
            "_model_name": "HTMLModel",
            "placeholder": "​",
            "_view_module": "@jupyter-widgets/controls",
            "_model_module_version": "1.5.0",
            "value": " 400/400 [02:02&lt;00:00,  3.54it/s]",
            "_view_count": null,
            "_view_module_version": "1.5.0",
            "description_tooltip": null,
            "_model_module": "@jupyter-widgets/controls",
            "layout": "IPY_MODEL_315dd906530840ecab8121e4b5ad790f"
          }
        },
        "5c7eb87c849e494eac93b696283a2ab8": {
          "model_module": "@jupyter-widgets/controls",
          "model_name": "DescriptionStyleModel",
          "model_module_version": "1.5.0",
          "state": {
            "_view_name": "StyleView",
            "_model_name": "DescriptionStyleModel",
            "description_width": "",
            "_view_module": "@jupyter-widgets/base",
            "_model_module_version": "1.5.0",
            "_view_count": null,
            "_view_module_version": "1.2.0",
            "_model_module": "@jupyter-widgets/controls"
          }
        },
        "ad816255169b4ac9b16ed18fe4ecc75a": {
          "model_module": "@jupyter-widgets/base",
          "model_name": "LayoutModel",
          "model_module_version": "1.2.0",
          "state": {
            "_view_name": "LayoutView",
            "grid_template_rows": null,
            "right": null,
            "justify_content": null,
            "_view_module": "@jupyter-widgets/base",
            "overflow": null,
            "_model_module_version": "1.2.0",
            "_view_count": null,
            "flex_flow": null,
            "width": null,
            "min_width": null,
            "border": null,
            "align_items": null,
            "bottom": null,
            "_model_module": "@jupyter-widgets/base",
            "top": null,
            "grid_column": null,
            "overflow_y": null,
            "overflow_x": null,
            "grid_auto_flow": null,
            "grid_area": null,
            "grid_template_columns": null,
            "flex": null,
            "_model_name": "LayoutModel",
            "justify_items": null,
            "grid_row": null,
            "max_height": null,
            "align_content": null,
            "visibility": null,
            "align_self": null,
            "height": null,
            "min_height": null,
            "padding": null,
            "grid_auto_rows": null,
            "grid_gap": null,
            "max_width": null,
            "order": null,
            "_view_module_version": "1.2.0",
            "grid_template_areas": null,
            "object_position": null,
            "object_fit": null,
            "grid_auto_columns": null,
            "margin": null,
            "display": null,
            "left": null
          }
        },
        "13607fdd26c64df18dfa7d1f9f64b67e": {
          "model_module": "@jupyter-widgets/controls",
          "model_name": "ProgressStyleModel",
          "model_module_version": "1.5.0",
          "state": {
            "_view_name": "StyleView",
            "_model_name": "ProgressStyleModel",
            "description_width": "",
            "_view_module": "@jupyter-widgets/base",
            "_model_module_version": "1.5.0",
            "_view_count": null,
            "_view_module_version": "1.2.0",
            "bar_color": null,
            "_model_module": "@jupyter-widgets/controls"
          }
        },
        "8d6686f91ba745f0addcb8d69d9d9379": {
          "model_module": "@jupyter-widgets/base",
          "model_name": "LayoutModel",
          "model_module_version": "1.2.0",
          "state": {
            "_view_name": "LayoutView",
            "grid_template_rows": null,
            "right": null,
            "justify_content": null,
            "_view_module": "@jupyter-widgets/base",
            "overflow": null,
            "_model_module_version": "1.2.0",
            "_view_count": null,
            "flex_flow": null,
            "width": null,
            "min_width": null,
            "border": null,
            "align_items": null,
            "bottom": null,
            "_model_module": "@jupyter-widgets/base",
            "top": null,
            "grid_column": null,
            "overflow_y": null,
            "overflow_x": null,
            "grid_auto_flow": null,
            "grid_area": null,
            "grid_template_columns": null,
            "flex": null,
            "_model_name": "LayoutModel",
            "justify_items": null,
            "grid_row": null,
            "max_height": null,
            "align_content": null,
            "visibility": null,
            "align_self": null,
            "height": null,
            "min_height": null,
            "padding": null,
            "grid_auto_rows": null,
            "grid_gap": null,
            "max_width": null,
            "order": null,
            "_view_module_version": "1.2.0",
            "grid_template_areas": null,
            "object_position": null,
            "object_fit": null,
            "grid_auto_columns": null,
            "margin": null,
            "display": null,
            "left": null
          }
        },
        "f4f0197b06c941708b40d37ea429b79d": {
          "model_module": "@jupyter-widgets/controls",
          "model_name": "DescriptionStyleModel",
          "model_module_version": "1.5.0",
          "state": {
            "_view_name": "StyleView",
            "_model_name": "DescriptionStyleModel",
            "description_width": "",
            "_view_module": "@jupyter-widgets/base",
            "_model_module_version": "1.5.0",
            "_view_count": null,
            "_view_module_version": "1.2.0",
            "_model_module": "@jupyter-widgets/controls"
          }
        },
        "315dd906530840ecab8121e4b5ad790f": {
          "model_module": "@jupyter-widgets/base",
          "model_name": "LayoutModel",
          "model_module_version": "1.2.0",
          "state": {
            "_view_name": "LayoutView",
            "grid_template_rows": null,
            "right": null,
            "justify_content": null,
            "_view_module": "@jupyter-widgets/base",
            "overflow": null,
            "_model_module_version": "1.2.0",
            "_view_count": null,
            "flex_flow": null,
            "width": null,
            "min_width": null,
            "border": null,
            "align_items": null,
            "bottom": null,
            "_model_module": "@jupyter-widgets/base",
            "top": null,
            "grid_column": null,
            "overflow_y": null,
            "overflow_x": null,
            "grid_auto_flow": null,
            "grid_area": null,
            "grid_template_columns": null,
            "flex": null,
            "_model_name": "LayoutModel",
            "justify_items": null,
            "grid_row": null,
            "max_height": null,
            "align_content": null,
            "visibility": null,
            "align_self": null,
            "height": null,
            "min_height": null,
            "padding": null,
            "grid_auto_rows": null,
            "grid_gap": null,
            "max_width": null,
            "order": null,
            "_view_module_version": "1.2.0",
            "grid_template_areas": null,
            "object_position": null,
            "object_fit": null,
            "grid_auto_columns": null,
            "margin": null,
            "display": null,
            "left": null
          }
        },
        "d3c99e2e32c74f91abf332a748b39765": {
          "model_module": "@jupyter-widgets/controls",
          "model_name": "HBoxModel",
          "model_module_version": "1.5.0",
          "state": {
            "_view_name": "HBoxView",
            "_dom_classes": [],
            "_model_name": "HBoxModel",
            "_view_module": "@jupyter-widgets/controls",
            "_model_module_version": "1.5.0",
            "_view_count": null,
            "_view_module_version": "1.5.0",
            "box_style": "",
            "layout": "IPY_MODEL_2b424229cbcd48b78fa91fd807b9c057",
            "_model_module": "@jupyter-widgets/controls",
            "children": [
              "IPY_MODEL_845098f5e94e4af19202c496fc21c489",
              "IPY_MODEL_0fb99936621a458ea0b4bdde8b3827b7",
              "IPY_MODEL_fd07b98217854c949384d6b948caf642"
            ]
          }
        },
        "2b424229cbcd48b78fa91fd807b9c057": {
          "model_module": "@jupyter-widgets/base",
          "model_name": "LayoutModel",
          "model_module_version": "1.2.0",
          "state": {
            "_view_name": "LayoutView",
            "grid_template_rows": null,
            "right": null,
            "justify_content": null,
            "_view_module": "@jupyter-widgets/base",
            "overflow": null,
            "_model_module_version": "1.2.0",
            "_view_count": null,
            "flex_flow": null,
            "width": null,
            "min_width": null,
            "border": null,
            "align_items": null,
            "bottom": null,
            "_model_module": "@jupyter-widgets/base",
            "top": null,
            "grid_column": null,
            "overflow_y": null,
            "overflow_x": null,
            "grid_auto_flow": null,
            "grid_area": null,
            "grid_template_columns": null,
            "flex": null,
            "_model_name": "LayoutModel",
            "justify_items": null,
            "grid_row": null,
            "max_height": null,
            "align_content": null,
            "visibility": null,
            "align_self": null,
            "height": null,
            "min_height": null,
            "padding": null,
            "grid_auto_rows": null,
            "grid_gap": null,
            "max_width": null,
            "order": null,
            "_view_module_version": "1.2.0",
            "grid_template_areas": null,
            "object_position": null,
            "object_fit": null,
            "grid_auto_columns": null,
            "margin": null,
            "display": null,
            "left": null
          }
        },
        "845098f5e94e4af19202c496fc21c489": {
          "model_module": "@jupyter-widgets/controls",
          "model_name": "HTMLModel",
          "model_module_version": "1.5.0",
          "state": {
            "_view_name": "HTMLView",
            "style": "IPY_MODEL_51de31e235464b2cbf6bb401c7ac613a",
            "_dom_classes": [],
            "description": "",
            "_model_name": "HTMLModel",
            "placeholder": "​",
            "_view_module": "@jupyter-widgets/controls",
            "_model_module_version": "1.5.0",
            "value": "100%",
            "_view_count": null,
            "_view_module_version": "1.5.0",
            "description_tooltip": null,
            "_model_module": "@jupyter-widgets/controls",
            "layout": "IPY_MODEL_29221ed50c8248ac9e4befa7a60ccfd0"
          }
        },
        "0fb99936621a458ea0b4bdde8b3827b7": {
          "model_module": "@jupyter-widgets/controls",
          "model_name": "FloatProgressModel",
          "model_module_version": "1.5.0",
          "state": {
            "_view_name": "ProgressView",
            "style": "IPY_MODEL_0d07f76acddb4691878139c8417e232a",
            "_dom_classes": [],
            "description": "",
            "_model_name": "FloatProgressModel",
            "bar_style": "success",
            "max": 1000,
            "_view_module": "@jupyter-widgets/controls",
            "_model_module_version": "1.5.0",
            "value": 1000,
            "_view_count": null,
            "_view_module_version": "1.5.0",
            "orientation": "horizontal",
            "min": 0,
            "description_tooltip": null,
            "_model_module": "@jupyter-widgets/controls",
            "layout": "IPY_MODEL_d9b78e7b602e4014bdce51e75da7e834"
          }
        },
        "fd07b98217854c949384d6b948caf642": {
          "model_module": "@jupyter-widgets/controls",
          "model_name": "HTMLModel",
          "model_module_version": "1.5.0",
          "state": {
            "_view_name": "HTMLView",
            "style": "IPY_MODEL_01f78bda2a754106b5cd6d60a6bd2f7b",
            "_dom_classes": [],
            "description": "",
            "_model_name": "HTMLModel",
            "placeholder": "​",
            "_view_module": "@jupyter-widgets/controls",
            "_model_module_version": "1.5.0",
            "value": " 1000/1000 [12:50&lt;00:00,  1.96it/s]",
            "_view_count": null,
            "_view_module_version": "1.5.0",
            "description_tooltip": null,
            "_model_module": "@jupyter-widgets/controls",
            "layout": "IPY_MODEL_7537b956727e41659b9e588078981f58"
          }
        },
        "51de31e235464b2cbf6bb401c7ac613a": {
          "model_module": "@jupyter-widgets/controls",
          "model_name": "DescriptionStyleModel",
          "model_module_version": "1.5.0",
          "state": {
            "_view_name": "StyleView",
            "_model_name": "DescriptionStyleModel",
            "description_width": "",
            "_view_module": "@jupyter-widgets/base",
            "_model_module_version": "1.5.0",
            "_view_count": null,
            "_view_module_version": "1.2.0",
            "_model_module": "@jupyter-widgets/controls"
          }
        },
        "29221ed50c8248ac9e4befa7a60ccfd0": {
          "model_module": "@jupyter-widgets/base",
          "model_name": "LayoutModel",
          "model_module_version": "1.2.0",
          "state": {
            "_view_name": "LayoutView",
            "grid_template_rows": null,
            "right": null,
            "justify_content": null,
            "_view_module": "@jupyter-widgets/base",
            "overflow": null,
            "_model_module_version": "1.2.0",
            "_view_count": null,
            "flex_flow": null,
            "width": null,
            "min_width": null,
            "border": null,
            "align_items": null,
            "bottom": null,
            "_model_module": "@jupyter-widgets/base",
            "top": null,
            "grid_column": null,
            "overflow_y": null,
            "overflow_x": null,
            "grid_auto_flow": null,
            "grid_area": null,
            "grid_template_columns": null,
            "flex": null,
            "_model_name": "LayoutModel",
            "justify_items": null,
            "grid_row": null,
            "max_height": null,
            "align_content": null,
            "visibility": null,
            "align_self": null,
            "height": null,
            "min_height": null,
            "padding": null,
            "grid_auto_rows": null,
            "grid_gap": null,
            "max_width": null,
            "order": null,
            "_view_module_version": "1.2.0",
            "grid_template_areas": null,
            "object_position": null,
            "object_fit": null,
            "grid_auto_columns": null,
            "margin": null,
            "display": null,
            "left": null
          }
        },
        "0d07f76acddb4691878139c8417e232a": {
          "model_module": "@jupyter-widgets/controls",
          "model_name": "ProgressStyleModel",
          "model_module_version": "1.5.0",
          "state": {
            "_view_name": "StyleView",
            "_model_name": "ProgressStyleModel",
            "description_width": "",
            "_view_module": "@jupyter-widgets/base",
            "_model_module_version": "1.5.0",
            "_view_count": null,
            "_view_module_version": "1.2.0",
            "bar_color": null,
            "_model_module": "@jupyter-widgets/controls"
          }
        },
        "d9b78e7b602e4014bdce51e75da7e834": {
          "model_module": "@jupyter-widgets/base",
          "model_name": "LayoutModel",
          "model_module_version": "1.2.0",
          "state": {
            "_view_name": "LayoutView",
            "grid_template_rows": null,
            "right": null,
            "justify_content": null,
            "_view_module": "@jupyter-widgets/base",
            "overflow": null,
            "_model_module_version": "1.2.0",
            "_view_count": null,
            "flex_flow": null,
            "width": null,
            "min_width": null,
            "border": null,
            "align_items": null,
            "bottom": null,
            "_model_module": "@jupyter-widgets/base",
            "top": null,
            "grid_column": null,
            "overflow_y": null,
            "overflow_x": null,
            "grid_auto_flow": null,
            "grid_area": null,
            "grid_template_columns": null,
            "flex": null,
            "_model_name": "LayoutModel",
            "justify_items": null,
            "grid_row": null,
            "max_height": null,
            "align_content": null,
            "visibility": null,
            "align_self": null,
            "height": null,
            "min_height": null,
            "padding": null,
            "grid_auto_rows": null,
            "grid_gap": null,
            "max_width": null,
            "order": null,
            "_view_module_version": "1.2.0",
            "grid_template_areas": null,
            "object_position": null,
            "object_fit": null,
            "grid_auto_columns": null,
            "margin": null,
            "display": null,
            "left": null
          }
        },
        "01f78bda2a754106b5cd6d60a6bd2f7b": {
          "model_module": "@jupyter-widgets/controls",
          "model_name": "DescriptionStyleModel",
          "model_module_version": "1.5.0",
          "state": {
            "_view_name": "StyleView",
            "_model_name": "DescriptionStyleModel",
            "description_width": "",
            "_view_module": "@jupyter-widgets/base",
            "_model_module_version": "1.5.0",
            "_view_count": null,
            "_view_module_version": "1.2.0",
            "_model_module": "@jupyter-widgets/controls"
          }
        },
        "7537b956727e41659b9e588078981f58": {
          "model_module": "@jupyter-widgets/base",
          "model_name": "LayoutModel",
          "model_module_version": "1.2.0",
          "state": {
            "_view_name": "LayoutView",
            "grid_template_rows": null,
            "right": null,
            "justify_content": null,
            "_view_module": "@jupyter-widgets/base",
            "overflow": null,
            "_model_module_version": "1.2.0",
            "_view_count": null,
            "flex_flow": null,
            "width": null,
            "min_width": null,
            "border": null,
            "align_items": null,
            "bottom": null,
            "_model_module": "@jupyter-widgets/base",
            "top": null,
            "grid_column": null,
            "overflow_y": null,
            "overflow_x": null,
            "grid_auto_flow": null,
            "grid_area": null,
            "grid_template_columns": null,
            "flex": null,
            "_model_name": "LayoutModel",
            "justify_items": null,
            "grid_row": null,
            "max_height": null,
            "align_content": null,
            "visibility": null,
            "align_self": null,
            "height": null,
            "min_height": null,
            "padding": null,
            "grid_auto_rows": null,
            "grid_gap": null,
            "max_width": null,
            "order": null,
            "_view_module_version": "1.2.0",
            "grid_template_areas": null,
            "object_position": null,
            "object_fit": null,
            "grid_auto_columns": null,
            "margin": null,
            "display": null,
            "left": null
          }
        },
        "f5c3ed06fadf4eaba061f0cd1037638a": {
          "model_module": "@jupyter-widgets/controls",
          "model_name": "HBoxModel",
          "model_module_version": "1.5.0",
          "state": {
            "_view_name": "HBoxView",
            "_dom_classes": [],
            "_model_name": "HBoxModel",
            "_view_module": "@jupyter-widgets/controls",
            "_model_module_version": "1.5.0",
            "_view_count": null,
            "_view_module_version": "1.5.0",
            "box_style": "",
            "layout": "IPY_MODEL_42ee94d482c944b8ab669de2fd1befba",
            "_model_module": "@jupyter-widgets/controls",
            "children": [
              "IPY_MODEL_ebbfe6e7d0a547559d9f45b5fb7dd4e0",
              "IPY_MODEL_4033b4bdb40d4290bedba2c9b350b71a",
              "IPY_MODEL_e39398719e154c738ad819d0192d97f3"
            ]
          }
        },
        "42ee94d482c944b8ab669de2fd1befba": {
          "model_module": "@jupyter-widgets/base",
          "model_name": "LayoutModel",
          "model_module_version": "1.2.0",
          "state": {
            "_view_name": "LayoutView",
            "grid_template_rows": null,
            "right": null,
            "justify_content": null,
            "_view_module": "@jupyter-widgets/base",
            "overflow": null,
            "_model_module_version": "1.2.0",
            "_view_count": null,
            "flex_flow": null,
            "width": null,
            "min_width": null,
            "border": null,
            "align_items": null,
            "bottom": null,
            "_model_module": "@jupyter-widgets/base",
            "top": null,
            "grid_column": null,
            "overflow_y": null,
            "overflow_x": null,
            "grid_auto_flow": null,
            "grid_area": null,
            "grid_template_columns": null,
            "flex": null,
            "_model_name": "LayoutModel",
            "justify_items": null,
            "grid_row": null,
            "max_height": null,
            "align_content": null,
            "visibility": null,
            "align_self": null,
            "height": null,
            "min_height": null,
            "padding": null,
            "grid_auto_rows": null,
            "grid_gap": null,
            "max_width": null,
            "order": null,
            "_view_module_version": "1.2.0",
            "grid_template_areas": null,
            "object_position": null,
            "object_fit": null,
            "grid_auto_columns": null,
            "margin": null,
            "display": null,
            "left": null
          }
        },
        "ebbfe6e7d0a547559d9f45b5fb7dd4e0": {
          "model_module": "@jupyter-widgets/controls",
          "model_name": "HTMLModel",
          "model_module_version": "1.5.0",
          "state": {
            "_view_name": "HTMLView",
            "style": "IPY_MODEL_728efd8edbaf47649bfe877919382204",
            "_dom_classes": [],
            "description": "",
            "_model_name": "HTMLModel",
            "placeholder": "​",
            "_view_module": "@jupyter-widgets/controls",
            "_model_module_version": "1.5.0",
            "value": " 28%",
            "_view_count": null,
            "_view_module_version": "1.5.0",
            "description_tooltip": null,
            "_model_module": "@jupyter-widgets/controls",
            "layout": "IPY_MODEL_ad1ddbedc1ab44b095899910e4874da3"
          }
        },
        "4033b4bdb40d4290bedba2c9b350b71a": {
          "model_module": "@jupyter-widgets/controls",
          "model_name": "FloatProgressModel",
          "model_module_version": "1.5.0",
          "state": {
            "_view_name": "ProgressView",
            "style": "IPY_MODEL_cf0e8d5924e64cec99db49824da2359b",
            "_dom_classes": [],
            "description": "",
            "_model_name": "FloatProgressModel",
            "bar_style": "danger",
            "max": 50000,
            "_view_module": "@jupyter-widgets/controls",
            "_model_module_version": "1.5.0",
            "value": 13999,
            "_view_count": null,
            "_view_module_version": "1.5.0",
            "orientation": "horizontal",
            "min": 0,
            "description_tooltip": null,
            "_model_module": "@jupyter-widgets/controls",
            "layout": "IPY_MODEL_dcb54f17b62d494fa487e2dd353b7915"
          }
        },
        "e39398719e154c738ad819d0192d97f3": {
          "model_module": "@jupyter-widgets/controls",
          "model_name": "HTMLModel",
          "model_module_version": "1.5.0",
          "state": {
            "_view_name": "HTMLView",
            "style": "IPY_MODEL_c65c16fab6e641a48af097d4c2de657d",
            "_dom_classes": [],
            "description": "",
            "_model_name": "HTMLModel",
            "placeholder": "​",
            "_view_module": "@jupyter-widgets/controls",
            "_model_module_version": "1.5.0",
            "value": " 13999/50000 [3:20:41&lt;2:36:03,  3.84it/s]",
            "_view_count": null,
            "_view_module_version": "1.5.0",
            "description_tooltip": null,
            "_model_module": "@jupyter-widgets/controls",
            "layout": "IPY_MODEL_00265ebfaaef41faa2aad9b5749851eb"
          }
        },
        "728efd8edbaf47649bfe877919382204": {
          "model_module": "@jupyter-widgets/controls",
          "model_name": "DescriptionStyleModel",
          "model_module_version": "1.5.0",
          "state": {
            "_view_name": "StyleView",
            "_model_name": "DescriptionStyleModel",
            "description_width": "",
            "_view_module": "@jupyter-widgets/base",
            "_model_module_version": "1.5.0",
            "_view_count": null,
            "_view_module_version": "1.2.0",
            "_model_module": "@jupyter-widgets/controls"
          }
        },
        "ad1ddbedc1ab44b095899910e4874da3": {
          "model_module": "@jupyter-widgets/base",
          "model_name": "LayoutModel",
          "model_module_version": "1.2.0",
          "state": {
            "_view_name": "LayoutView",
            "grid_template_rows": null,
            "right": null,
            "justify_content": null,
            "_view_module": "@jupyter-widgets/base",
            "overflow": null,
            "_model_module_version": "1.2.0",
            "_view_count": null,
            "flex_flow": null,
            "width": null,
            "min_width": null,
            "border": null,
            "align_items": null,
            "bottom": null,
            "_model_module": "@jupyter-widgets/base",
            "top": null,
            "grid_column": null,
            "overflow_y": null,
            "overflow_x": null,
            "grid_auto_flow": null,
            "grid_area": null,
            "grid_template_columns": null,
            "flex": null,
            "_model_name": "LayoutModel",
            "justify_items": null,
            "grid_row": null,
            "max_height": null,
            "align_content": null,
            "visibility": null,
            "align_self": null,
            "height": null,
            "min_height": null,
            "padding": null,
            "grid_auto_rows": null,
            "grid_gap": null,
            "max_width": null,
            "order": null,
            "_view_module_version": "1.2.0",
            "grid_template_areas": null,
            "object_position": null,
            "object_fit": null,
            "grid_auto_columns": null,
            "margin": null,
            "display": null,
            "left": null
          }
        },
        "cf0e8d5924e64cec99db49824da2359b": {
          "model_module": "@jupyter-widgets/controls",
          "model_name": "ProgressStyleModel",
          "model_module_version": "1.5.0",
          "state": {
            "_view_name": "StyleView",
            "_model_name": "ProgressStyleModel",
            "description_width": "",
            "_view_module": "@jupyter-widgets/base",
            "_model_module_version": "1.5.0",
            "_view_count": null,
            "_view_module_version": "1.2.0",
            "bar_color": null,
            "_model_module": "@jupyter-widgets/controls"
          }
        },
        "dcb54f17b62d494fa487e2dd353b7915": {
          "model_module": "@jupyter-widgets/base",
          "model_name": "LayoutModel",
          "model_module_version": "1.2.0",
          "state": {
            "_view_name": "LayoutView",
            "grid_template_rows": null,
            "right": null,
            "justify_content": null,
            "_view_module": "@jupyter-widgets/base",
            "overflow": null,
            "_model_module_version": "1.2.0",
            "_view_count": null,
            "flex_flow": null,
            "width": null,
            "min_width": null,
            "border": null,
            "align_items": null,
            "bottom": null,
            "_model_module": "@jupyter-widgets/base",
            "top": null,
            "grid_column": null,
            "overflow_y": null,
            "overflow_x": null,
            "grid_auto_flow": null,
            "grid_area": null,
            "grid_template_columns": null,
            "flex": null,
            "_model_name": "LayoutModel",
            "justify_items": null,
            "grid_row": null,
            "max_height": null,
            "align_content": null,
            "visibility": null,
            "align_self": null,
            "height": null,
            "min_height": null,
            "padding": null,
            "grid_auto_rows": null,
            "grid_gap": null,
            "max_width": null,
            "order": null,
            "_view_module_version": "1.2.0",
            "grid_template_areas": null,
            "object_position": null,
            "object_fit": null,
            "grid_auto_columns": null,
            "margin": null,
            "display": null,
            "left": null
          }
        },
        "c65c16fab6e641a48af097d4c2de657d": {
          "model_module": "@jupyter-widgets/controls",
          "model_name": "DescriptionStyleModel",
          "model_module_version": "1.5.0",
          "state": {
            "_view_name": "StyleView",
            "_model_name": "DescriptionStyleModel",
            "description_width": "",
            "_view_module": "@jupyter-widgets/base",
            "_model_module_version": "1.5.0",
            "_view_count": null,
            "_view_module_version": "1.2.0",
            "_model_module": "@jupyter-widgets/controls"
          }
        },
        "00265ebfaaef41faa2aad9b5749851eb": {
          "model_module": "@jupyter-widgets/base",
          "model_name": "LayoutModel",
          "model_module_version": "1.2.0",
          "state": {
            "_view_name": "LayoutView",
            "grid_template_rows": null,
            "right": null,
            "justify_content": null,
            "_view_module": "@jupyter-widgets/base",
            "overflow": null,
            "_model_module_version": "1.2.0",
            "_view_count": null,
            "flex_flow": null,
            "width": null,
            "min_width": null,
            "border": null,
            "align_items": null,
            "bottom": null,
            "_model_module": "@jupyter-widgets/base",
            "top": null,
            "grid_column": null,
            "overflow_y": null,
            "overflow_x": null,
            "grid_auto_flow": null,
            "grid_area": null,
            "grid_template_columns": null,
            "flex": null,
            "_model_name": "LayoutModel",
            "justify_items": null,
            "grid_row": null,
            "max_height": null,
            "align_content": null,
            "visibility": null,
            "align_self": null,
            "height": null,
            "min_height": null,
            "padding": null,
            "grid_auto_rows": null,
            "grid_gap": null,
            "max_width": null,
            "order": null,
            "_view_module_version": "1.2.0",
            "grid_template_areas": null,
            "object_position": null,
            "object_fit": null,
            "grid_auto_columns": null,
            "margin": null,
            "display": null,
            "left": null
          }
        }
      }
    }
  },
  "cells": [
    {
      "cell_type": "markdown",
      "source": [
        "# 该作业基于课程发布的作业样例修改而成，感谢老师和助教的辛勤付出！"
      ],
      "metadata": {
        "id": "9JKmrE3qbLrF"
      }
    },
    {
      "cell_type": "markdown",
      "metadata": {
        "id": "Fp30SB4bxeQb"
      },
      "source": [
        " # **Homework 15 - Reinforcement Learning**\n",
        "\n",
        "若有任何問題，歡迎來信至助教信箱 ntu-ml-2020spring-ta@googlegroups.com\n",
        "\n"
      ]
    },
    {
      "cell_type": "markdown",
      "metadata": {
        "id": "yXsnCWPtWSNk"
      },
      "source": [
        "## 前置作業\n",
        "\n",
        "首先我們需要安裝必要的系統套件及 PyPi 套件。\n",
        "gym 這個套件由 OpenAI 所提供，是一套用來開發與比較 Reinforcement Learning 演算法的工具包（toolkit）。\n",
        "而其餘套件則是為了在 Notebook 中繪圖所需要的套件。"
      ]
    },
    {
      "cell_type": "code",
      "metadata": {
        "id": "5e2bScpnkVbv",
        "colab": {
          "base_uri": "https://localhost:8080/"
        },
        "outputId": "72b0ee20-0064-4de1-d262-affa3f4c260a"
      },
      "source": [
        "!apt update\n",
        "!apt install python-opengl xvfb -y\n",
        "!pip install gym[box2d] pyvirtualdisplay tqdm"
      ],
      "execution_count": 2,
      "outputs": [
        {
          "output_type": "stream",
          "name": "stdout",
          "text": [
            "\u001b[33m\r0% [Working]\u001b[0m\r            \rIgn:1 https://developer.download.nvidia.com/compute/cuda/repos/ubuntu1804/x86_64  InRelease\n",
            "\u001b[33m\r0% [Connecting to archive.ubuntu.com] [Connecting to security.ubuntu.com] [Conn\u001b[0m\r                                                                               \rGet:2 https://cloud.r-project.org/bin/linux/ubuntu bionic-cran40/ InRelease [3,626 B]\n",
            "\u001b[33m\r0% [Connecting to archive.ubuntu.com] [Connecting to security.ubuntu.com] [2 In\u001b[0m\u001b[33m\r0% [Connecting to archive.ubuntu.com] [Connecting to security.ubuntu.com] [Conn\u001b[0m\r                                                                               \rIgn:3 https://developer.download.nvidia.com/compute/machine-learning/repos/ubuntu1804/x86_64  InRelease\n",
            "\u001b[33m\r0% [Connecting to archive.ubuntu.com (91.189.88.152)] [Connecting to security.u\u001b[0m\u001b[33m\r0% [2 InRelease gpgv 3,626 B] [Connecting to archive.ubuntu.com (91.189.88.152)\u001b[0m\r                                                                               \rGet:4 https://developer.download.nvidia.com/compute/cuda/repos/ubuntu1804/x86_64  Release [696 B]\n",
            "\u001b[33m\r0% [2 InRelease gpgv 3,626 B] [Connecting to archive.ubuntu.com (91.189.88.152)\u001b[0m\r                                                                               \rHit:5 https://developer.download.nvidia.com/compute/machine-learning/repos/ubuntu1804/x86_64  Release\n",
            "Get:6 https://developer.download.nvidia.com/compute/cuda/repos/ubuntu1804/x86_64  Release.gpg [836 B]\n",
            "Get:7 http://security.ubuntu.com/ubuntu bionic-security InRelease [88.7 kB]\n",
            "Get:8 https://cloud.r-project.org/bin/linux/ubuntu bionic-cran40/ Packages [76.0 kB]\n",
            "Hit:9 http://archive.ubuntu.com/ubuntu bionic InRelease\n",
            "Get:10 http://ppa.launchpad.net/c2d4u.team/c2d4u4.0+/ubuntu bionic InRelease [15.9 kB]\n",
            "Get:11 http://archive.ubuntu.com/ubuntu bionic-updates InRelease [88.7 kB]\n",
            "Get:13 https://developer.download.nvidia.com/compute/cuda/repos/ubuntu1804/x86_64  Packages [872 kB]\n",
            "Hit:14 http://ppa.launchpad.net/cran/libgit2/ubuntu bionic InRelease\n",
            "Get:15 http://archive.ubuntu.com/ubuntu bionic-backports InRelease [74.6 kB]\n",
            "Get:16 http://ppa.launchpad.net/deadsnakes/ppa/ubuntu bionic InRelease [15.9 kB]\n",
            "Get:17 http://security.ubuntu.com/ubuntu bionic-security/restricted amd64 Packages [738 kB]\n",
            "Hit:18 http://ppa.launchpad.net/graphics-drivers/ppa/ubuntu bionic InRelease\n",
            "Get:19 http://security.ubuntu.com/ubuntu bionic-security/universe amd64 Packages [1,463 kB]\n",
            "Get:20 http://security.ubuntu.com/ubuntu bionic-security/main amd64 Packages [2,516 kB]\n",
            "Get:21 http://archive.ubuntu.com/ubuntu bionic-updates/restricted amd64 Packages [771 kB]\n",
            "Get:22 http://ppa.launchpad.net/c2d4u.team/c2d4u4.0+/ubuntu bionic/main Sources [1,823 kB]\n",
            "Get:23 http://archive.ubuntu.com/ubuntu bionic-updates/universe amd64 Packages [2,242 kB]\n",
            "Get:24 http://archive.ubuntu.com/ubuntu bionic-updates/main amd64 Packages [2,954 kB]\n",
            "Get:25 http://ppa.launchpad.net/c2d4u.team/c2d4u4.0+/ubuntu bionic/main amd64 Packages [934 kB]\n",
            "Get:26 http://ppa.launchpad.net/deadsnakes/ppa/ubuntu bionic/main amd64 Packages [45.3 kB]\n",
            "Fetched 14.7 MB in 4s (3,347 kB/s)\n",
            "Reading package lists... Done\n",
            "Building dependency tree       \n",
            "Reading state information... Done\n",
            "62 packages can be upgraded. Run 'apt list --upgradable' to see them.\n",
            "Reading package lists... Done\n",
            "Building dependency tree       \n",
            "Reading state information... Done\n",
            "Suggested packages:\n",
            "  libgle3\n",
            "The following NEW packages will be installed:\n",
            "  python-opengl xvfb\n",
            "0 upgraded, 2 newly installed, 0 to remove and 62 not upgraded.\n",
            "Need to get 1,280 kB of archives.\n",
            "After this operation, 7,687 kB of additional disk space will be used.\n",
            "Get:1 http://archive.ubuntu.com/ubuntu bionic/universe amd64 python-opengl all 3.1.0+dfsg-1 [496 kB]\n",
            "Get:2 http://archive.ubuntu.com/ubuntu bionic-updates/universe amd64 xvfb amd64 2:1.19.6-1ubuntu4.10 [784 kB]\n",
            "Fetched 1,280 kB in 1s (916 kB/s)\n",
            "Selecting previously unselected package python-opengl.\n",
            "(Reading database ... 155229 files and directories currently installed.)\n",
            "Preparing to unpack .../python-opengl_3.1.0+dfsg-1_all.deb ...\n",
            "Unpacking python-opengl (3.1.0+dfsg-1) ...\n",
            "Selecting previously unselected package xvfb.\n",
            "Preparing to unpack .../xvfb_2%3a1.19.6-1ubuntu4.10_amd64.deb ...\n",
            "Unpacking xvfb (2:1.19.6-1ubuntu4.10) ...\n",
            "Setting up python-opengl (3.1.0+dfsg-1) ...\n",
            "Setting up xvfb (2:1.19.6-1ubuntu4.10) ...\n",
            "Processing triggers for man-db (2.8.3-2ubuntu0.1) ...\n",
            "Requirement already satisfied: gym[box2d] in /usr/local/lib/python3.7/dist-packages (0.17.3)\n",
            "Collecting pyvirtualdisplay\n",
            "  Downloading PyVirtualDisplay-2.2-py3-none-any.whl (15 kB)\n",
            "Requirement already satisfied: tqdm in /usr/local/lib/python3.7/dist-packages (4.62.3)\n",
            "Collecting EasyProcess\n",
            "  Downloading EasyProcess-1.1-py3-none-any.whl (8.7 kB)\n",
            "Requirement already satisfied: scipy in /usr/local/lib/python3.7/dist-packages (from gym[box2d]) (1.4.1)\n",
            "Requirement already satisfied: cloudpickle<1.7.0,>=1.2.0 in /usr/local/lib/python3.7/dist-packages (from gym[box2d]) (1.3.0)\n",
            "Requirement already satisfied: pyglet<=1.5.0,>=1.4.0 in /usr/local/lib/python3.7/dist-packages (from gym[box2d]) (1.5.0)\n",
            "Requirement already satisfied: numpy>=1.10.4 in /usr/local/lib/python3.7/dist-packages (from gym[box2d]) (1.19.5)\n",
            "Collecting box2d-py~=2.3.5\n",
            "  Downloading box2d_py-2.3.8-cp37-cp37m-manylinux1_x86_64.whl (448 kB)\n",
            "\u001b[K     |████████████████████████████████| 448 kB 9.9 MB/s \n",
            "\u001b[?25hRequirement already satisfied: future in /usr/local/lib/python3.7/dist-packages (from pyglet<=1.5.0,>=1.4.0->gym[box2d]) (0.16.0)\n",
            "Installing collected packages: EasyProcess, box2d-py, pyvirtualdisplay\n",
            "Successfully installed EasyProcess-1.1 box2d-py-2.3.8 pyvirtualdisplay-2.2\n"
          ]
        }
      ]
    },
    {
      "cell_type": "markdown",
      "metadata": {
        "id": "M_-i3cdoYsks"
      },
      "source": [
        "接下來，設置好 virtual display，並引入所有必要的套件。"
      ]
    },
    {
      "cell_type": "code",
      "metadata": {
        "id": "nl2nREINDLiw"
      },
      "source": [
        "%%capture\n",
        "from pyvirtualdisplay import Display\n",
        "virtual_display = Display(visible=0, size=(1400, 900))\n",
        "virtual_display.start()\n",
        "\n",
        "%matplotlib inline\n",
        "import matplotlib.pyplot as plt\n",
        "\n",
        "from IPython import display\n",
        "\n",
        "import numpy as np\n",
        "import torch\n",
        "import torch.nn as nn\n",
        "import torch.optim as optim\n",
        "import torch.nn.functional as F\n",
        "from torch.distributions import Categorical\n",
        "from tqdm.notebook import tqdm\n",
        "\n",
        "from collections import namedtuple, deque\n",
        "import random"
      ],
      "execution_count": 3,
      "outputs": []
    },
    {
      "cell_type": "markdown",
      "metadata": {
        "id": "He0XDx6bzjgC"
      },
      "source": [
        "最後，引入 OpenAI 的 gym，並建立一個 [Lunar Lander](https://gym.openai.com/envs/LunarLander-v2/) 環境。"
      ]
    },
    {
      "cell_type": "code",
      "metadata": {
        "id": "N_4-xJcbBt09"
      },
      "source": [
        "%%capture\n",
        "import gym\n",
        "env = gym.make('LunarLander-v2')"
      ],
      "execution_count": 11,
      "outputs": []
    },
    {
      "cell_type": "markdown",
      "metadata": {
        "id": "NrkVvTrvWZ5H"
      },
      "source": [
        "## 什麼是 Lunar Lander？\n",
        "\n",
        "“LunarLander-v2” 這個環境是在模擬登月小艇降落在月球表面時的情形。\n",
        "這個任務的目標是讓登月小艇「安全地」降落在兩個黃色旗幟間的平地上。\n",
        "> Landing pad is always at coordinates (0,0).\n",
        "> Coordinates are the first two numbers in state vector.\n",
        "\n",
        "![](https://gym.openai.com/assets/docs/aeloop-138c89d44114492fd02822303e6b4b07213010bb14ca5856d2d49d6b62d88e53.svg)\n",
        "\n",
        "所謂的「環境」其實同時包括了 agent 和 environment。\n",
        "我們利用 `step()` 這個函式讓 agent 行動，而後函式便會回傳 environment 給予的 observation/state（以下這兩個名詞代表同樣的意思）和 reward。"
      ]
    },
    {
      "cell_type": "markdown",
      "metadata": {
        "id": "bIbp82sljvAt"
      },
      "source": [
        "### Observation / State\n",
        "\n",
        "首先，我們可以看看 environment 回傳給 agent 的 observation 究竟是長什麼樣子的資料："
      ]
    },
    {
      "cell_type": "code",
      "metadata": {
        "id": "rsXZra3N9R5T",
        "colab": {
          "base_uri": "https://localhost:8080/"
        },
        "outputId": "b6b9bce0-861b-4d49-aea2-7c31290c8b4d"
      },
      "source": [
        "print(env.observation_space)"
      ],
      "execution_count": null,
      "outputs": [
        {
          "output_type": "stream",
          "name": "stdout",
          "text": [
            "Box(-inf, inf, (8,), float32)\n"
          ]
        }
      ]
    },
    {
      "cell_type": "markdown",
      "metadata": {
        "id": "ezdfoThbAQ49"
      },
      "source": [
        "`Box(8,)` 說明我們會拿到 8 維的向量作為 observation，其中包含：垂直及水平座標、速度、角度、加速度等等，這部分我們就不細說。\n",
        "* 水平位置\n",
        "* 垂直位置\n",
        "* 水平加速度\n",
        "* 垂直加速度\n",
        "* 水平角度\n",
        "* 水平角加速度\n",
        "* 第一腳著地\n",
        "* 第二腳著地\n",
        "\n",
        "### Action\n",
        "\n",
        "而在 agent 得到 observation 和 reward 以後，能夠採取的動作有："
      ]
    },
    {
      "cell_type": "code",
      "metadata": {
        "id": "p1k4dIrBAaKi",
        "colab": {
          "base_uri": "https://localhost:8080/"
        },
        "outputId": "73eac2bf-dc52-4abc-b82c-6a36e56a80be"
      },
      "source": [
        "print(env.action_space)"
      ],
      "execution_count": null,
      "outputs": [
        {
          "output_type": "stream",
          "name": "stdout",
          "text": [
            "Discrete(4)\n"
          ]
        }
      ]
    },
    {
      "cell_type": "markdown",
      "metadata": {
        "id": "dejXT6PHBrPn"
      },
      "source": [
        "`Discrete(4)` 說明 agent 可以採取四種離散的行動：\n",
        "- 0 代表不採取任何行動\n",
        "- 2 代表主引擎向下噴射\n",
        "- 1, 3 則是向左右噴射\n",
        "\n",
        "接下來，我們嘗試讓 agent 與 environment 互動。\n",
        "在進行任何操作前，建議先呼叫 `reset()` 函式讓整個「環境」重置。\n",
        "而這個函式同時會回傳「環境」最初始的狀態。"
      ]
    },
    {
      "cell_type": "code",
      "metadata": {
        "id": "pi4OmrmZgnWA",
        "colab": {
          "base_uri": "https://localhost:8080/"
        },
        "outputId": "45d405de-8006-4bf3-e0a1-139b95175d9c"
      },
      "source": [
        "initial_state = env.reset()\n",
        "print(initial_state)"
      ],
      "execution_count": null,
      "outputs": [
        {
          "output_type": "stream",
          "name": "stdout",
          "text": [
            "[ 0.00280046  1.4127411   0.28362957  0.08093571 -0.00323814 -0.06424639\n",
            "  0.          0.        ]\n"
          ]
        }
      ]
    },
    {
      "cell_type": "markdown",
      "metadata": {
        "id": "uBx0mEqqgxJ9"
      },
      "source": [
        "接著，我們試著從 agent 的四種行動空間中，隨機採取一個行動"
      ]
    },
    {
      "cell_type": "code",
      "metadata": {
        "id": "vxkOEXRKgizt",
        "colab": {
          "base_uri": "https://localhost:8080/"
        },
        "outputId": "6b68bb81-7ad4-4cd9-f520-2ee23655445c"
      },
      "source": [
        "random_action = env.action_space.sample()\n",
        "print(random_action)"
      ],
      "execution_count": null,
      "outputs": [
        {
          "output_type": "stream",
          "name": "stdout",
          "text": [
            "1\n"
          ]
        }
      ]
    },
    {
      "cell_type": "markdown",
      "metadata": {
        "id": "mns-bO01g0-J"
      },
      "source": [
        "再利用 `step()` 函式讓 agent 根據我們隨機抽樣出來的 `random_action` 動作。\n",
        "而這個函式會回傳四項資訊：\n",
        "- observation / state\n",
        "- reward\n",
        "- 完成與否\n",
        "- 其餘資訊"
      ]
    },
    {
      "cell_type": "code",
      "metadata": {
        "id": "E_WViSxGgIk9",
        "colab": {
          "base_uri": "https://localhost:8080/"
        },
        "outputId": "93580eb4-f454-482d-bccb-26578d60a808"
      },
      "source": [
        "observation, reward, done, info = env.step(random_action)\n",
        "print(reward)"
      ],
      "execution_count": null,
      "outputs": [
        {
          "output_type": "stream",
          "name": "stdout",
          "text": [
            "1.5270381390795944\n"
          ]
        }
      ]
    },
    {
      "cell_type": "markdown",
      "metadata": {
        "id": "FdieGq7NuBIm"
      },
      "source": [
        "第一項資訊 `observation` 即為 agent 採取行動之後，agent 對於環境的 observation 或者說環境的 state 為何。\n",
        "而第三項資訊 `done` 則是 `True` 或 `False` 的布林值，當登月小艇成功著陸或是不幸墜毀時，代表這個回合（episode）也就跟著結束了，此時 `step()` 函式便會回傳 `done = True`，而在那之前，`done` 則保持 `False`。"
      ]
    },
    {
      "cell_type": "code",
      "metadata": {
        "id": "yK7r126kuCNp",
        "colab": {
          "base_uri": "https://localhost:8080/"
        },
        "outputId": "3e5cbe9c-f48e-4226-d7b8-1e58447349e4"
      },
      "source": [
        "print(done)"
      ],
      "execution_count": null,
      "outputs": [
        {
          "output_type": "stream",
          "name": "stdout",
          "text": [
            "False\n"
          ]
        }
      ]
    },
    {
      "cell_type": "markdown",
      "metadata": {
        "id": "GKdS8vOihxhc"
      },
      "source": [
        "### Reward\n",
        "\n",
        "而「環境」給予的 reward 大致是這樣計算：\n",
        "- 小艇墜毀得到 -100 分\n",
        "- 小艇在黃旗幟之間成功著地則得 100~140 分\n",
        "- 噴射主引擎（向下噴火）每次 -0.3 分\n",
        "- 小艇最終完全靜止則再得 100 分\n",
        "\n",
        "> Reward for moving from the top of the screen to landing pad and zero speed is about 100..140 points.\n",
        "> If lander moves away from landing pad it loses reward back.\n",
        "> Episode finishes if the lander crashes or comes to rest, receiving additional -100 or +100 points.\n",
        "> Each leg ground contact is +10.\n",
        "> Firing main engine is -0.3 points each frame.\n",
        "> Solved is 200 points."
      ]
    },
    {
      "cell_type": "code",
      "metadata": {
        "id": "vxQNs77hi0_7",
        "colab": {
          "base_uri": "https://localhost:8080/"
        },
        "outputId": "916553e6-57a3-4632-faba-1f3709132f77"
      },
      "source": [
        "print(reward)"
      ],
      "execution_count": null,
      "outputs": [
        {
          "output_type": "stream",
          "name": "stdout",
          "text": [
            "1.5270381390795944\n"
          ]
        }
      ]
    },
    {
      "cell_type": "markdown",
      "metadata": {
        "id": "Mhqp6D-XgHpe"
      },
      "source": [
        "### Random Agent\n",
        "\n",
        "最後，在進入實做之前，我們就來看看這樣一個 random agent 能否成功登陸月球："
      ]
    },
    {
      "cell_type": "code",
      "metadata": {
        "id": "Y3G0bxoccelv",
        "colab": {
          "base_uri": "https://localhost:8080/",
          "height": 287
        },
        "outputId": "83ebcd93-3c42-490b-f9ed-029db48feba8"
      },
      "source": [
        "env.reset()\n",
        "\n",
        "img = plt.imshow(env.render(mode='rgb_array'))\n",
        "\n",
        "done = False\n",
        "i = 0\n",
        "\n",
        "while not done:\n",
        "    action = env.action_space.sample()\n",
        "    observation, reward, done, _ = env.step(action)\n",
        "\n",
        "    img.set_data(env.render(mode='rgb_array'))\n",
        "    display.display(plt.gcf())\n",
        "    display.clear_output(wait=True)\n",
        "\n",
        "    i += 1\n",
        "print(i) # 随机走了多少步\n"
      ],
      "execution_count": null,
      "outputs": [
        {
          "output_type": "stream",
          "name": "stdout",
          "text": [
            "77\n"
          ]
        },
        {
          "output_type": "display_data",
          "data": {
            "image/png": "[encoded data removed]",
            "text/plain": [
              "<Figure size 432x288 with 1 Axes>"
            ]
          },
          "metadata": {
            "needs_background": "light"
          }
        }
      ]
    },
    {
      "cell_type": "markdown",
      "metadata": {
        "id": "F5paWqo7tWL2"
      },
      "source": [
        "## Policy Gradient\n",
        "\n",
        "現在來搭建一個簡單的 policy network。\n",
        "我們預設模型的輸入是 8-dim 的 observation，輸出則是離散的四個動作之一："
      ]
    },
    {
      "cell_type": "code",
      "metadata": {
        "id": "J8tdmeD-tZew"
      },
      "source": [
        "class PolicyGradientNetwork(nn.Module):\n",
        "\n",
        "    def __init__(self):\n",
        "        super().__init__()\n",
        "        self.fc1 = nn.Linear(8, 16)\n",
        "        self.fc2 = nn.Linear(16, 16)\n",
        "        self.fc3 = nn.Linear(16, 4)\n",
        "\n",
        "    def forward(self, state):\n",
        "        hid = torch.tanh(self.fc1(state))\n",
        "        hid = torch.tanh(self.fc2(hid))\n",
        "        return F.softmax(self.fc3(hid), dim=-1)"
      ],
      "execution_count": null,
      "outputs": []
    },
    {
      "cell_type": "markdown",
      "metadata": {
        "id": "ynbqJrhIFTC3"
      },
      "source": [
        "再來，搭建一個簡單的 agent，並搭配上方的 policy network 來採取行動。\n",
        "這個 agent 能做到以下幾件事：\n",
        "- `learn()`：從記下來的 log probabilities 及 rewards 來更新 policy network。\n",
        "- `sample()`：從 environment 得到 observation 之後，利用 policy network 得出應該採取的行動。\n",
        "而此函式除了回傳抽樣出來的 action，也會回傳此次抽樣的 log probabilities。"
      ]
    },
    {
      "cell_type": "code",
      "metadata": {
        "id": "zZo-IxJx286z"
      },
      "source": [
        "class PolicyGradientAgent():\n",
        "\n",
        "    def __init__(self, network):\n",
        "        self.network = network\n",
        "        self.optimizer = optim.SGD(self.network.parameters(), lr=0.001)\n",
        "\n",
        "    def learn(self, log_probs, rewards):\n",
        "        loss = (-log_probs * rewards).sum()\n",
        "\n",
        "        self.optimizer.zero_grad()\n",
        "        loss.backward()\n",
        "        self.optimizer.step()\n",
        "\n",
        "    def sample(self, state):\n",
        "        action_prob = self.network(torch.FloatTensor(state))\n",
        "        action_dist = Categorical(action_prob) #建立概率分布\n",
        "        action = action_dist.sample()\n",
        "        log_prob = action_dist.log_prob(action)\n",
        "        return action.item(), log_prob"
      ],
      "execution_count": null,
      "outputs": []
    },
    {
      "cell_type": "markdown",
      "metadata": {
        "id": "ehPlnTKyRZf9"
      },
      "source": [
        "最後，建立一個 network 和 agent，就可以開始進行訓練了。"
      ]
    },
    {
      "cell_type": "code",
      "metadata": {
        "id": "GfJIvML-RYjL"
      },
      "source": [
        "network = PolicyGradientNetwork()\n",
        "agent = PolicyGradientAgent(network)"
      ],
      "execution_count": null,
      "outputs": []
    },
    {
      "cell_type": "markdown",
      "metadata": {
        "id": "ouv23glgf5Qt"
      },
      "source": [
        "## 訓練 Agent\n",
        "\n",
        "現在我們開始訓練 agent。\n",
        "透過讓 agent 和 environment 互動，我們記住每一組對應的 log probabilities 及 reward，並在成功登陸或者不幸墜毀後，回放這些「記憶」來訓練 policy network。"
      ]
    },
    {
      "cell_type": "code",
      "metadata": {
        "id": "vg5rxBBaf38_",
        "colab": {
          "base_uri": "https://localhost:8080/",
          "height": 49,
          "referenced_widgets": [
            "f0dee5efdbc34489a94fcaeab06a75ca",
            "37140b88856647a99be9455b36c88d85",
            "d8dc9abac1864a02a146b70502a16e54",
            "a44a0fe79d9d4841a0a07f85e5dd6eb4",
            "a5328960f32844a295912eda7a435e7a",
            "68446bdceb1046fa8279c69f5d8c2ea4",
            "5ebfebe1739e449ab60994e70f638fad",
            "d54207400f1344b582aee23c31555ffa",
            "7fbcd54cd1bc40a28cc56d0bedb3e040",
            "5df05d90c57a4e36bd81b6cc5a522927",
            "8c748a480d564f2490affd79ebf71d25"
          ]
        },
        "outputId": "fa7964a6-be42-4808-ea3e-a079c049c3c9"
      },
      "source": [
        "agent.network.train()  # 訓練前，先確保 network 處在 training 模式\n",
        "EPISODE_PER_BATCH = 5  # 每蒐集 5 個 episodes 更新一次 agent\n",
        "NUM_BATCH = 400        # 總共更新 400 次\n",
        "\n",
        "avg_total_rewards, avg_final_rewards = [], []\n",
        "\n",
        "prg_bar = tqdm(range(NUM_BATCH))\n",
        "for batch in prg_bar:\n",
        "\n",
        "    log_probs, rewards = [], []\n",
        "    total_rewards, final_rewards = [], []\n",
        "\n",
        "    # 蒐集訓練資料\n",
        "    for episode in range(EPISODE_PER_BATCH):\n",
        "        \n",
        "        state = env.reset()\n",
        "        total_reward, total_step = 0, 0\n",
        "\n",
        "        while True:\n",
        "\n",
        "            action, log_prob = agent.sample(state)\n",
        "            next_state, reward, done, _ = env.step(action)\n",
        "\n",
        "            log_probs.append(log_prob)\n",
        "            state = next_state\n",
        "            total_reward += reward\n",
        "            total_step += 1\n",
        "\n",
        "            if done:\n",
        "                final_rewards.append(reward)\n",
        "                total_rewards.append(total_reward)\n",
        "                rewards.append(np.full(total_step, total_reward))  # 設定同一個 episode 每個 action 的 reward 都是 total reward\n",
        "                break\n",
        "\n",
        "    # 紀錄訓練過程\n",
        "    avg_total_reward = sum(total_rewards) / len(total_rewards)\n",
        "    avg_final_reward = sum(final_rewards) / len(final_rewards)\n",
        "    avg_total_rewards.append(avg_total_reward)\n",
        "    avg_final_rewards.append(avg_final_reward)\n",
        "    prg_bar.set_description(f\"Total: {avg_total_reward: 4.1f}, Final: {avg_final_reward: 4.1f}\")\n",
        "\n",
        "    # 更新網路\n",
        "    rewards = np.concatenate(rewards, axis=0)\n",
        "    rewards = (rewards - np.mean(rewards)) / (np.std(rewards) + 1e-9)  # 將 reward 正規標準化\n",
        "    agent.learn(torch.stack(log_probs), torch.from_numpy(rewards))"
      ],
      "execution_count": null,
      "outputs": [
        {
          "output_type": "display_data",
          "data": {
            "application/vnd.jupyter.widget-view+json": {
              "model_id": "f0dee5efdbc34489a94fcaeab06a75ca",
              "version_minor": 0,
              "version_major": 2
            },
            "text/plain": [
              "  0%|          | 0/400 [00:00<?, ?it/s]"
            ]
          },
          "metadata": {}
        }
      ]
    },
    {
      "cell_type": "markdown",
      "metadata": {
        "id": "vNb_tuFYhKVK"
      },
      "source": [
        "### 訓練結果\n",
        "\n",
        "訓練過程中，我們持續記下了 `avg_total_reward`，這個數值代表的是：每次更新 policy network 前，我們讓 agent 玩數個回合（episodes），而這些回合的平均 total rewards 為何。\n",
        "理論上，若是 agent 一直在進步，則所得到的 `avg_total_reward` 也會持續上升，直至 250 上下。\n",
        "若將其畫出來則結果如下："
      ]
    },
    {
      "cell_type": "code",
      "metadata": {
        "id": "wZYOI8H10SHN",
        "colab": {
          "base_uri": "https://localhost:8080/",
          "height": 281
        },
        "outputId": "17c48c3b-3dea-40fa-bd38-21339b1af4bf"
      },
      "source": [
        "plt.plot(avg_total_rewards)\n",
        "plt.title(\"Total Rewards\")\n",
        "plt.show()"
      ],
      "execution_count": null,
      "outputs": [
        {
          "output_type": "display_data",
          "data": {
            "image/png": "[encoded data removed]",
            "text/plain": [
              "<Figure size 432x288 with 1 Axes>"
            ]
          },
          "metadata": {
            "needs_background": "light"
          }
        }
      ]
    },
    {
      "cell_type": "markdown",
      "metadata": {
        "id": "mV5jj4dThz0Y"
      },
      "source": [
        "另外，`avg_final_reward` 代表的是多個回合的平均 final rewards，而 final reward 即是 agent 在單一回合中拿到的最後一個 reward。\n",
        "如果同學們還記得環境給予登月小艇 reward 的方式，便會知道，不論**回合的最後**小艇是不幸墜毀、飛出畫面、或是靜止在地面上，都會受到額外地獎勵或處罰。\n",
        "也因此，final reward 可被用來觀察 agent 的「著地」是否順利等資訊。"
      ]
    },
    {
      "cell_type": "code",
      "metadata": {
        "id": "txDZ5vlGWz5w",
        "colab": {
          "base_uri": "https://localhost:8080/",
          "height": 281
        },
        "outputId": "fec680a1-ec0a-40d2-eb31-68bebbdb2284"
      },
      "source": [
        "plt.plot(avg_final_rewards)\n",
        "plt.title(\"Final Rewards\")\n",
        "plt.show()"
      ],
      "execution_count": null,
      "outputs": [
        {
          "output_type": "display_data",
          "data": {
            "image/png": "[encoded data removed]",
            "text/plain": [
              "<Figure size 432x288 with 1 Axes>"
            ]
          },
          "metadata": {
            "needs_background": "light"
          }
        }
      ]
    },
    {
      "cell_type": "markdown",
      "metadata": {
        "id": "u2HaGRVEYGQS"
      },
      "source": [
        "## 測試"
      ]
    },
    {
      "cell_type": "code",
      "metadata": {
        "id": "5yFuUKKRYH73",
        "colab": {
          "base_uri": "https://localhost:8080/",
          "height": 269
        },
        "outputId": "b453f151-a59e-48d7-879c-b238bf01c68e"
      },
      "source": [
        "agent.network.eval()  # 測試前先將 network 切換為 evaluation 模式\n",
        "\n",
        "state = env.reset()\n",
        "\n",
        "img = plt.imshow(env.render(mode='rgb_array'))\n",
        "\n",
        "total_reward = 0\n",
        "\n",
        "done = False\n",
        "while not done:\n",
        "    action, _ = agent.sample(state)\n",
        "    state, reward, done, _ = env.step(action)\n",
        "\n",
        "    total_reward += reward\n",
        "\n",
        "    img.set_data(env.render(mode='rgb_array'))\n",
        "    display.display(plt.gcf())\n",
        "    display.clear_output(wait=True)"
      ],
      "execution_count": null,
      "outputs": [
        {
          "output_type": "display_data",
          "data": {
            "image/png": "[encoded data removed]",
            "text/plain": [
              "<Figure size 432x288 with 1 Axes>"
            ]
          },
          "metadata": {
            "needs_background": "light"
          }
        }
      ]
    },
    {
      "cell_type": "code",
      "metadata": {
        "id": "Aex7mcKr0J01",
        "colab": {
          "base_uri": "https://localhost:8080/"
        },
        "outputId": "b710ec83-ee35-4ca1-d4dd-140709365806"
      },
      "source": [
        "print(total_reward)"
      ],
      "execution_count": null,
      "outputs": [
        {
          "output_type": "stream",
          "name": "stdout",
          "text": [
            "-107.28819452899141\n"
          ]
        }
      ]
    },
    {
      "cell_type": "markdown",
      "metadata": {
        "id": "wUBtYXG2eaqf"
      },
      "source": [
        "## 參考資料\n",
        "\n",
        "以下是一些有用的參考資料。\n",
        "建議同學們實做前，可以先參考第一則連結的上課影片。\n",
        "在影片的最後有提到兩個有用的 Tips，這對於本次作業的實做非常有幫助。\n",
        "\n",
        "- [DRL Lecture 1: Policy Gradient (Review)](https://youtu.be/z95ZYgPgXOY)\n",
        "- [ML Lecture 23-3: Reinforcement Learning (including Q-learning) start at 30:00](https://youtu.be/2-JNBzCq77c?t=1800)\n",
        "- [Lecture 7: Policy Gradient, David Silver](http://www0.cs.ucl.ac.uk/staff/d.silver/web/Teaching_files/pg.pdf)\n"
      ]
    },
    {
      "cell_type": "markdown",
      "source": [
        "# **Problem 1**\n",
        "Policy Gradient 方法\n",
        "1. 請閱讀及跑過範例程式，並試著改進 reward 計算的方式。\n",
        "2. 請說明你如何改進 reward 的算法，而不同的算法又如何影響訓練結果？\n"
      ],
      "metadata": {
        "id": "7Z9_wORhZKgo"
      }
    },
    {
      "cell_type": "code",
      "source": [
        "# 尝试assign suitable credit\n",
        "network = PolicyGradientNetwork()\n",
        "agent = PolicyGradientAgent(network)\n",
        "agent.network.train()  # 訓練前，先確保 network 處在 training 模式\n",
        "EPISODE_PER_BATCH = 5  # 每蒐集 5 個 episodes 更新一次 agent\n",
        "NUM_BATCH = 1200 # 總共更新 1200 次\n",
        "gamma = 0.99 # 衰减系数\n",
        "\n",
        "avg_total_rewards, avg_final_rewards = [], []\n",
        "\n",
        "prg_bar = tqdm(range(NUM_BATCH))\n",
        "for batch in prg_bar:\n",
        "\n",
        "    log_probs, rewards = [], []\n",
        "    total_rewards, final_rewards = [], []\n",
        "\n",
        "    # 蒐集訓練資料\n",
        "    for episode in range(EPISODE_PER_BATCH):\n",
        "        \n",
        "        state = env.reset()\n",
        "        total_reward, total_step = 0, 0\n",
        "        ep_rewards = []\n",
        "\n",
        "        while True:\n",
        "\n",
        "            action, log_prob = agent.sample(state)\n",
        "            next_state, reward, done, _ = env.step(action)\n",
        "\n",
        "            log_probs.append(log_prob)\n",
        "            state = next_state\n",
        "            total_reward += reward\n",
        "            total_step += 1\n",
        "            ep_rewards.append(reward)\n",
        "\n",
        "            if done:\n",
        "                final_rewards.append(reward)\n",
        "                total_rewards.append(total_reward)\n",
        "                # rewards.append(np.full(total_step, total_reward))  # 設定同一個 episode 每個 action 的 reward 都是 total reward\n",
        "                # assign suitable credit\n",
        "                for i in range(len(ep_rewards)-2, -1, -1):\n",
        "                    ep_rewards[i] += gamma * ep_rewards[i+1]\n",
        "                rewards.append(np.array(ep_rewards))\n",
        "                break\n",
        "\n",
        "    # 紀錄訓練過程\n",
        "    avg_total_reward = sum(total_rewards) / len(total_rewards)\n",
        "    avg_final_reward = sum(final_rewards) / len(final_rewards)\n",
        "    avg_total_rewards.append(avg_total_reward)\n",
        "    avg_final_rewards.append(avg_final_reward)\n",
        "    prg_bar.set_description(f\"Total: {avg_total_reward: 4.1f}, Final: {avg_final_reward: 4.1f}\")\n",
        "\n",
        "    # 更新網路\n",
        "    rewards = np.concatenate(rewards, axis=0)\n",
        "    rewards = (rewards - np.mean(rewards)) / (np.std(rewards) + 1e-9)  # 將 reward 正規標準化\n",
        "    agent.learn(torch.stack(log_probs), torch.from_numpy(rewards))"
      ],
      "metadata": {
        "colab": {
          "base_uri": "https://localhost:8080/",
          "height": 49,
          "referenced_widgets": [
            "802841a7574b4ecc9575e63a847a0681",
            "1865f30c334f4bd39b9c42873f8dfb86",
            "eb42c5222cec4453b72c5dfd4dbb57af",
            "78d766ef23e94a698eb42b371e0450aa",
            "33147a5965c24c14bc545da09a2af003",
            "0245c965f36b4857802d98b62c45d578",
            "6ea58fb11dbd45118056c49a3197858f",
            "0f67c18a6a614b829bfc4b08ec743eef",
            "292dc415b08e47c095a216c322584858",
            "3670e9e1226e40fe9ae9eff22bd40a35",
            "0a0c8bce10714d7da5f9de21c30c476b"
          ]
        },
        "id": "0ta7abW1-O2d",
        "outputId": "4f12034b-22aa-49b5-bb1f-15201f99e34f"
      },
      "execution_count": null,
      "outputs": [
        {
          "output_type": "display_data",
          "data": {
            "application/vnd.jupyter.widget-view+json": {
              "model_id": "802841a7574b4ecc9575e63a847a0681",
              "version_minor": 0,
              "version_major": 2
            },
            "text/plain": [
              "  0%|          | 0/1200 [00:00<?, ?it/s]"
            ]
          },
          "metadata": {}
        }
      ]
    },
    {
      "cell_type": "code",
      "source": [
        "plt.plot(avg_total_rewards)\n",
        "plt.title(\"Total Rewards\")\n",
        "plt.show()"
      ],
      "metadata": {
        "colab": {
          "base_uri": "https://localhost:8080/",
          "height": 281
        },
        "id": "6yewJHzh-UXN",
        "outputId": "3ffdc7d6-1077-48ac-e7c7-b2182970cb69"
      },
      "execution_count": null,
      "outputs": [
        {
          "output_type": "display_data",
          "data": {
            "image/png": "[encoded data removed]",
            "text/plain": [
              "<Figure size 432x288 with 1 Axes>"
            ]
          },
          "metadata": {
            "needs_background": "light"
          }
        }
      ]
    },
    {
      "cell_type": "code",
      "source": [
        "plt.plot(avg_final_rewards)\n",
        "plt.title(\"Final Rewards\")\n",
        "plt.show()"
      ],
      "metadata": {
        "colab": {
          "base_uri": "https://localhost:8080/",
          "height": 210
        },
        "id": "bJGHKmLL-U4L",
        "outputId": "d9316d8c-957b-450f-e683-22db9b7e1d77"
      },
      "execution_count": null,
      "outputs": [
        {
          "output_type": "error",
          "ename": "NameError",
          "evalue": "ignored",
          "traceback": [
            "\u001b[0;31m---------------------------------------------------------------------------\u001b[0m",
            "\u001b[0;31mNameError\u001b[0m                                 Traceback (most recent call last)",
            "\u001b[0;32m<ipython-input-11-21b8d8f52e9c>\u001b[0m in \u001b[0;36m<module>\u001b[0;34m()\u001b[0m\n\u001b[0;32m----> 1\u001b[0;31m \u001b[0mplt\u001b[0m\u001b[0;34m.\u001b[0m\u001b[0mplot\u001b[0m\u001b[0;34m(\u001b[0m\u001b[0mavg_final_rewards\u001b[0m\u001b[0;34m)\u001b[0m\u001b[0;34m\u001b[0m\u001b[0;34m\u001b[0m\u001b[0m\n\u001b[0m\u001b[1;32m      2\u001b[0m \u001b[0mplt\u001b[0m\u001b[0;34m.\u001b[0m\u001b[0mtitle\u001b[0m\u001b[0;34m(\u001b[0m\u001b[0;34m\"Final Rewards\"\u001b[0m\u001b[0;34m)\u001b[0m\u001b[0;34m\u001b[0m\u001b[0;34m\u001b[0m\u001b[0m\n\u001b[1;32m      3\u001b[0m \u001b[0mplt\u001b[0m\u001b[0;34m.\u001b[0m\u001b[0mshow\u001b[0m\u001b[0;34m(\u001b[0m\u001b[0;34m)\u001b[0m\u001b[0;34m\u001b[0m\u001b[0;34m\u001b[0m\u001b[0m\n",
            "\u001b[0;31mNameError\u001b[0m: name 'plt' is not defined"
          ]
        }
      ]
    },
    {
      "cell_type": "code",
      "source": [
        "agent.network.eval()  # 測試前先將 network 切換為 evaluation 模式\n",
        "\n",
        "state = env.reset()\n",
        "\n",
        "img = plt.imshow(env.render(mode='rgb_array'))\n",
        "\n",
        "rewards = []\n",
        "total_reward = 0\n",
        "\n",
        "done = False\n",
        "while not done:\n",
        "    action, _ = agent.sample(state)\n",
        "    state, reward, done, _ = env.step(action)\n",
        "\n",
        "    total_reward += reward\n",
        "    rewards.append(reward)\n",
        "\n",
        "    img.set_data(env.render(mode='rgb_array'))\n",
        "    display.display(plt.gcf())\n",
        "    display.clear_output(wait=True)\n",
        "print(total_reward)\n",
        "print(rewards)"
      ],
      "metadata": {
        "colab": {
          "base_uri": "https://localhost:8080/",
          "height": 246
        },
        "id": "uXDTyAsJBffa",
        "outputId": "a34eb9c4-88c5-4003-e896-c70420d813f9"
      },
      "execution_count": null,
      "outputs": [
        {
          "output_type": "error",
          "ename": "NameError",
          "evalue": "ignored",
          "traceback": [
            "\u001b[0;31m---------------------------------------------------------------------------\u001b[0m",
            "\u001b[0;31mNameError\u001b[0m                                 Traceback (most recent call last)",
            "\u001b[0;32m<ipython-input-9-d8cb1e3e22b7>\u001b[0m in \u001b[0;36m<module>\u001b[0;34m()\u001b[0m\n\u001b[0;32m----> 1\u001b[0;31m \u001b[0magent\u001b[0m\u001b[0;34m.\u001b[0m\u001b[0mnetwork\u001b[0m\u001b[0;34m.\u001b[0m\u001b[0meval\u001b[0m\u001b[0;34m(\u001b[0m\u001b[0;34m)\u001b[0m  \u001b[0;31m# 測試前先將 network 切換為 evaluation 模式\u001b[0m\u001b[0;34m\u001b[0m\u001b[0;34m\u001b[0m\u001b[0m\n\u001b[0m\u001b[1;32m      2\u001b[0m \u001b[0;34m\u001b[0m\u001b[0m\n\u001b[1;32m      3\u001b[0m \u001b[0mstate\u001b[0m \u001b[0;34m=\u001b[0m \u001b[0menv\u001b[0m\u001b[0;34m.\u001b[0m\u001b[0mreset\u001b[0m\u001b[0;34m(\u001b[0m\u001b[0;34m)\u001b[0m\u001b[0;34m\u001b[0m\u001b[0;34m\u001b[0m\u001b[0m\n\u001b[1;32m      4\u001b[0m \u001b[0;34m\u001b[0m\u001b[0m\n\u001b[1;32m      5\u001b[0m \u001b[0mimg\u001b[0m \u001b[0;34m=\u001b[0m \u001b[0mplt\u001b[0m\u001b[0;34m.\u001b[0m\u001b[0mimshow\u001b[0m\u001b[0;34m(\u001b[0m\u001b[0menv\u001b[0m\u001b[0;34m.\u001b[0m\u001b[0mrender\u001b[0m\u001b[0;34m(\u001b[0m\u001b[0mmode\u001b[0m\u001b[0;34m=\u001b[0m\u001b[0;34m'rgb_array'\u001b[0m\u001b[0;34m)\u001b[0m\u001b[0;34m)\u001b[0m\u001b[0;34m\u001b[0m\u001b[0;34m\u001b[0m\u001b[0m\n",
            "\u001b[0;31mNameError\u001b[0m: name 'agent' is not defined"
          ]
        }
      ]
    },
    {
      "cell_type": "code",
      "source": [
        "# 尝试assign suitable credit和没有归一化（baseline）\n",
        "\n",
        "network = PolicyGradientNetwork()\n",
        "agent = PolicyGradientAgent(network)\n",
        "agent.network.train()  # 訓練前，先確保 network 處在 training 模式\n",
        "EPISODE_PER_BATCH = 5  # 每蒐集 5 個 episodes 更新一次 agent\n",
        "NUM_BATCH = 400 # 總共更新 400 次\n",
        "gamma = 0.99 # 衰减系数\n",
        "\n",
        "avg_total_rewards, avg_final_rewards = [], []\n",
        "\n",
        "prg_bar = tqdm(range(NUM_BATCH))\n",
        "for batch in prg_bar:\n",
        "\n",
        "    log_probs, rewards = [], []\n",
        "    total_rewards, final_rewards = [], []\n",
        "\n",
        "    # 蒐集訓練資料\n",
        "    for episode in range(EPISODE_PER_BATCH):\n",
        "        \n",
        "        state = env.reset()\n",
        "        total_reward, total_step = 0, 0\n",
        "        ep_rewards = []\n",
        "\n",
        "        while True:\n",
        "\n",
        "            action, log_prob = agent.sample(state)\n",
        "            next_state, reward, done, _ = env.step(action)\n",
        "\n",
        "            log_probs.append(log_prob)\n",
        "            state = next_state\n",
        "            total_reward += reward\n",
        "            total_step += 1\n",
        "            ep_rewards.append(reward)\n",
        "\n",
        "            if done:\n",
        "                final_rewards.append(reward)\n",
        "                total_rewards.append(total_reward)\n",
        "                # rewards.append(np.full(total_step, total_reward))  # 設定同一個 episode 每個 action 的 reward 都是 total reward\n",
        "                # assign suitable credit\n",
        "                for i in range(len(ep_rewards)-2, -1, -1):\n",
        "                    ep_rewards[i] += gamma * ep_rewards[i+1]\n",
        "                rewards.append(np.array(ep_rewards))\n",
        "                break\n",
        "\n",
        "    # 紀錄訓練過程\n",
        "    avg_total_reward = sum(total_rewards) / len(total_rewards)\n",
        "    avg_final_reward = sum(final_rewards) / len(final_rewards)\n",
        "    avg_total_rewards.append(avg_total_reward)\n",
        "    avg_final_rewards.append(avg_final_reward)\n",
        "    prg_bar.set_description(f\"Total: {avg_total_reward: 4.1f}, Final: {avg_final_reward: 4.1f}\")\n",
        "\n",
        "    # 更新網路\n",
        "    rewards = np.concatenate(rewards, axis=0)\n",
        "    # rewards = (rewards - np.mean(rewards)) / (np.std(rewards) + 1e-9)  # 將 reward 正規標準化\n",
        "    agent.learn(torch.stack(log_probs), torch.from_numpy(rewards))"
      ],
      "metadata": {
        "colab": {
          "base_uri": "https://localhost:8080/",
          "height": 49,
          "referenced_widgets": [
            "e4bb3238da4448f09556f0f13bce886b",
            "4e6553c78ee742f5b123ef11b9d75798",
            "a7fc246209334a9e89c31f606517e8fd",
            "b45d876617f8447089593ccc19bdf07d",
            "2d84a6241a8b42359d6ae4546b02add7",
            "5c7eb87c849e494eac93b696283a2ab8",
            "ad816255169b4ac9b16ed18fe4ecc75a",
            "13607fdd26c64df18dfa7d1f9f64b67e",
            "8d6686f91ba745f0addcb8d69d9d9379",
            "f4f0197b06c941708b40d37ea429b79d",
            "315dd906530840ecab8121e4b5ad790f"
          ]
        },
        "id": "r_iUdfGCZOtw",
        "outputId": "6d60e987-9334-49a9-b643-ab3b06a5f44f"
      },
      "execution_count": null,
      "outputs": [
        {
          "output_type": "display_data",
          "data": {
            "application/vnd.jupyter.widget-view+json": {
              "model_id": "e4bb3238da4448f09556f0f13bce886b",
              "version_minor": 0,
              "version_major": 2
            },
            "text/plain": [
              "  0%|          | 0/400 [00:00<?, ?it/s]"
            ]
          },
          "metadata": {}
        }
      ]
    },
    {
      "cell_type": "code",
      "source": [
        "plt.plot(avg_total_rewards)\n",
        "plt.title(\"Total Rewards\")\n",
        "plt.show()"
      ],
      "metadata": {
        "colab": {
          "base_uri": "https://localhost:8080/",
          "height": 281
        },
        "id": "Cd7C5Lv6h6KC",
        "outputId": "806635fa-b82c-4c19-859a-604b23dfd826"
      },
      "execution_count": null,
      "outputs": [
        {
          "output_type": "display_data",
          "data": {
            "image/png": "[encoded data removed]",
            "text/plain": [
              "<Figure size 432x288 with 1 Axes>"
            ]
          },
          "metadata": {
            "needs_background": "light"
          }
        }
      ]
    },
    {
      "cell_type": "code",
      "source": [
        "plt.plot(avg_final_rewards)\n",
        "plt.title(\"Final Rewards\")\n",
        "plt.show()"
      ],
      "metadata": {
        "colab": {
          "base_uri": "https://localhost:8080/",
          "height": 281
        },
        "id": "q_ZqN5b3iFGA",
        "outputId": "77b16306-e084-4309-9ff5-ad2865aefb4f"
      },
      "execution_count": null,
      "outputs": [
        {
          "output_type": "display_data",
          "data": {
            "image/png": "[encoded data removed]",
            "text/plain": [
              "<Figure size 432x288 with 1 Axes>"
            ]
          },
          "metadata": {
            "needs_background": "light"
          }
        }
      ]
    },
    {
      "cell_type": "code",
      "source": [
        ""
      ],
      "metadata": {
        "id": "og2Hd1Bbukhx"
      },
      "execution_count": null,
      "outputs": []
    },
    {
      "cell_type": "markdown",
      "source": [
        "使用了assign suitable credit之前，飞行器大部分时间都是直接坠毁，而且使用了很多主火箭喷射，也就是在天上乱飞了很久，所以total reward都是很小，final reward直接就是-100，少部分有几个是-80上下，应该是最后两只脚着地+20（虽然也坠毁了），只有极少数碰运气可能落到两个旗子之间得了+100，使得total reward在-50左右。\n",
        "\n",
        "使用了assign suitable credit之后，明显效果好了很多，total reward和final reward都有正数出现了，说明飞行器逐渐学会了平稳降落和落到旗子中间。而且发现400个迭代还没有收敛，训练1200轮差不多了，马马虎虎，等下再用actor-critor方法优化一下。\n",
        "\n",
        "设计baseline是非常重要的，原始代码中已经通过归一化引入了baseline，我试了一下去掉归一化，在没有baseline的情况下，学习效果非常的糟糕，total reward基本在-100上下。我的猜想是，没有归一化之前，几乎每个log_prob对应的total reward都是负数，飞行器永远不知道平稳落地会得到100分（ppt中提到这个问题，因为采样有限），而在空中一直飞一直消耗燃料就会扣分，所以干脆不怎么飞，开局就直接坠机，所以final reward总是-100。只能说，ai在问题中学会了“躺平”，年轻人为什么不想努力，还是因为不合理的奖罚机制啊！"
      ],
      "metadata": {
        "id": "wwXl6bUNjWsY"
      }
    },
    {
      "cell_type": "markdown",
      "source": [
        "# **Problem 2**\n",
        " 試著修改與比較至少三項超參數（神經網路大小、一個 batch 中的回合數等），並說明你觀察到什麼。"
      ],
      "metadata": {
        "id": "i5X1z3h1hmoi"
      }
    },
    {
      "cell_type": "markdown",
      "source": [
        "调整超参数是作者最讨厌的一件事，希望大家把精力都放在问题，数据和模型上来，所以这里实验没有去做，而是摘取了网络上的一些超参数对drl的影响的结论，以供大家参考。\n",
        "\n",
        "来源：https://bbs.cvmart.net/articles/4146\n",
        "* 神经网络大小\n",
        "\n",
        "  过大、过深的神经网络不适合DRL，因为：\n",
        "    * 深度学习可以在整个训练结束后再使用训练好的模型。而强化学习需要在几秒钟的训练后马上使用刚训好的模型。这导致DRL只能用比较浅的网络来保证快速拟合（10层以下)\n",
        "    * 并且强化学习的训练数据不如有监督学习那么稳定，无法划分出训练集测试集去避免过拟合，因此DRL也不能用太宽的网络（超过1024），避免参数过度冗余导致过拟合。\n",
        "* dropout、批归一化\n",
        "  \n",
        "  他们在DL中得到广泛地使用，可惜不适合DRL。如果非要用，那么也要选择非常小的 dropout rate（0\\~0.2），而且要注意在使用的时候关掉dropout。\n",
        "* 记忆容量\n",
        "  \n",
        "  经验回放缓存 experimence replay buffer 的最大容量 max capacity，如果超过容量限制，它就会删掉最早的记忆。在简单的任务中（训练步数小于1e6），对于探索能力强的DRL算法，通常在缓存被放满前就训练到收敛了，不需要删除任何记忆。然而，过大的记忆也会拖慢训练速度，我一般会先从默认值 2 ** 17 \\~ 2 ** 20 开始尝试，如果环境的随机因素大，我会同步增加记忆容量 与 batch size、网络更新次数，直到逼近服务器的内存、显存上限（放在显存训练更快）\n",
        "* 批次大小、更新次数\n",
        "  \n",
        "  一般我会选择与网络宽度相同、或略大的批次大小batch size。我一般从128、256 开始尝试这些2的N次方。在off-policy中，每往Replay 更新几个数据，就对应地更新几次网络，这样做简单，但效果一般。（深度学习里）更优秀的更新方法是：根据Replay中数据数量，成比例地修改更新次数。Don't Decay the Learning Rate, Increase the Batch Size. ICLR. 2018 。，经过验证，DRL也适用。我根据Replay中数据个数来调整 batch size 和 update times：（**有点怀疑，这么振荡还可以用small batch嘛**）\n",
        "```python\n",
        "replay_max = 'the maximum capacity of replay buffer'\n",
        "replay_len = len(ReplayBuffer)\n",
        "k = 1 + replay_len / replay_max\n",
        "batch_size   = int(k * basic_batch_size)\n",
        "update_times = int(k * basic_update_times)\n",
        "for _ in range(update_times):\n",
        "    data = ReplayBuffer.random_sample(batch_size)\n",
        "```\n",
        "* 折扣因子\n",
        "\n",
        "  discount factor（或者叫 discount-rate parameter），gamma 。这个值很容易确定，请回答“你希望你的智能体每做出一步，至少需要考虑接下来多少步的reward？”如果是t 步：\n",
        "```python\n",
        "gamma ** t = 0.1  # 0.1 对于当前这一步来说，t步后的reward的权重\n",
        "gamma = 0.1 ** (1/t)\n",
        "# 0.93  ~= 0.1 ** (1/32)\n",
        "# 0.98  ~= 0.1 ** (1/128)\n",
        "# 0.99  ~= 0.1 ** (1/256) \n",
        "# 0.995 ~= 0.1 ** (1/512)\n",
        "# 可以看到 0.93, 0.98, 0.99, 0.995 的gamma值\n",
        "# 分别对应   32,  128,  256,   512 的步数\n",
        "```\n",
        "gamma绝对不能选择1.0。尽管在入门DRl任务选择gamma=0.1 甚至能训练得更快，但是gamma等于1 有“让Q值无限大”的风险。gamma值一般选择0.99即可，在某些任务上需要调整。\n",
        "\n",
        "更多可以参考原网页\n",
        "\n"
      ],
      "metadata": {
        "id": "JC6-E3y_Ep4I"
      }
    },
    {
      "cell_type": "markdown",
      "source": [
        "# **Problem 3**\n",
        "Actor-Critic 方法\n",
        "\n",
        "請同學們從 REINFORCE with baseline、Q Actor-Critic、A2C 等眾多方法中擇一實作。\n",
        "請說明你的實做與前者（Policy Gradient）的差異。\n"
      ],
      "metadata": {
        "id": "86oL-lkTk-MZ"
      }
    },
    {
      "cell_type": "markdown",
      "source": [
        "## D3QN\n",
        "  \n",
        "  因为actor-critic方法要用到critic方法，所以我们先实现一个D3QN(Dueling Double Deep Q Networks)，同时使用了replay buffer和exploration机制，来测试一下效果。\n"
      ],
      "metadata": {
        "id": "Rjk0CoOnYstv"
      }
    },
    {
      "cell_type": "markdown",
      "source": [
        "### Replay Buffer\n"
      ],
      "metadata": {
        "id": "8S4QWRsbAOQk"
      }
    },
    {
      "cell_type": "code",
      "source": [
        "# 定义训练的data\n",
        "Data = namedtuple('Data',('state', 'action', 'next_state', 'reward'))\n",
        "class ReplayMemory(object):\n",
        "    def __init__(self, capacity):\n",
        "        # deque就是双头链表，可以快速插入删除，满了以后再插入会自动删除最早的元素\n",
        "        self.memory = deque([], maxlen=capacity)\n",
        "\n",
        "    def store(self, *args):\n",
        "        \"\"\"Store a Data\"\"\"\n",
        "        self.memory.append(Data(*args))\n",
        "\n",
        "    def sample(self, batch_size):\n",
        "        return random.sample(self.memory, batch_size)\n",
        "\n",
        "    def __len__(self):\n",
        "        return len(self.memory)"
      ],
      "metadata": {
        "id": "vftpVvtflHLJ"
      },
      "execution_count": null,
      "outputs": []
    },
    {
      "cell_type": "markdown",
      "source": [
        "### Model"
      ],
      "metadata": {
        "id": "L8xMIrviC3fc"
      }
    },
    {
      "cell_type": "code",
      "source": [
        "class D3QN(nn.Module):\n",
        "\n",
        "    def __init__(self, inputsize, outputsize):\n",
        "        super(D3QN, self).__init__()\n",
        "        self.linear_relu_stack = nn.Sequential(\n",
        "            nn.Linear(inputsize, 32),\n",
        "            nn.ReLU(),\n",
        "            nn.Linear(32, 32),\n",
        "            nn.ReLU(),\n",
        "            nn.Linear(32, 16),\n",
        "            nn.ReLU(),\n",
        "            nn.Linear(16, outputsize)\n",
        "        )\n",
        "        # # dueling dqn\n",
        "        # self.layer2v = nn.Sequential(\n",
        "        #     nn.Linear(16, 8),\n",
        "        #     # nn.ReLU(),\n",
        "        #     nn.Linear(8, 1)\n",
        "        # )\n",
        "        # self.layer2a = nn.Sequential(\n",
        "        #     nn.Linear(16, 16),\n",
        "        #     # nn.ReLU(),\n",
        "        #     nn.Linear(16, outputsize)\n",
        "        # )\n",
        "\n",
        "    def forward(self, x):\n",
        "        x = self.linear_relu_stack(x)\n",
        "        # # dueling dqn\n",
        "        # v = self.layer2v(x)\n",
        "        # a = self.layer2a(x)\n",
        "        # a = a - torch.mean(a, axis=1, keepdim=True)\n",
        "        # q = a+v\n",
        "        return x"
      ],
      "metadata": {
        "id": "9HrA0xcCC_Ey"
      },
      "execution_count": null,
      "outputs": []
    },
    {
      "cell_type": "markdown",
      "source": [
        "### Train Function\n"
      ],
      "metadata": {
        "id": "RVupfy8LJlM_"
      }
    },
    {
      "cell_type": "code",
      "source": [
        "def train():\n",
        "    if len(memory) < BATCH_SIZE:\n",
        "        return\n",
        "    datas = memory.sample(BATCH_SIZE) # BATCH_SIZE * data(namedtuple)\n",
        "    # Transpose the batch (see https://stackoverflow.com/a/19343/3343043 for\n",
        "    # detailed explanation). This converts batch-array of Datas\n",
        "    # to Datas of batch-arrays.\n",
        "    batch = Data(*zip(*datas)) # a data(namedtuple) which every elem is a tuple of 2 dim tensor(expect reward)\n",
        "\n",
        "    # Compute a mask of non-final states and concatenate the batch elements\n",
        "    # (a final state would've been the one after which simulation ended)\n",
        "    non_final_mask = torch.tensor(tuple(map(lambda s: s is not None, batch.next_state)), dtype=torch.bool)\n",
        "    non_final_next_states = torch.cat([s for s in batch.next_state if s is not None])\n",
        "    state_batch = torch.cat(batch.state) # BATCH_SIZE * 8 tensor\n",
        "    action_batch = torch.cat(batch.action) # BATCH_SIZE * 1 tensor\n",
        "    reward_batch = torch.cat(batch.reward) # # BATCH_SIZE tensor\n",
        "\n",
        "    # Compute Q(s_t, a) - the model computes Q(s_t), then we select the\n",
        "    # columns of actions taken. These are the actions which would've been taken\n",
        "    # for each batch state according to policy_net\n",
        "    state_action_values = policy_net(state_batch).gather(1, action_batch)\n",
        "\n",
        "    # Compute V(s_{t+1}, argmax(a)_Q(s_{t+1})) for all next states.\n",
        "    # Expected values of actions for non_final_next_states are computed based\n",
        "    # on the target_net and policy_net; selecting their best reward with max(1)[0].\n",
        "    # This is merged based on the mask, such that we'll have either the expected\n",
        "    # state value or 0 in case the state was final.\n",
        "    next_state_values = torch.zeros(BATCH_SIZE)\n",
        "    \n",
        "    with torch.no_grad():\n",
        "        # double dqn\n",
        "        # policy_next_state_values = policy_net(non_final_next_states)\n",
        "        # target_next_state_values = target_net(non_final_next_states)\n",
        "        # next_state_values[non_final_mask] = target_next_state_values.gather(1, torch.max(policy_next_state_values, 1)[1].unsqueeze(1)).squeeze(1)\n",
        "        next_state_values[non_final_mask] = target_net(non_final_next_states).max(1)[0]\n",
        "    # Compute the expected Q values\n",
        "    expected_state_action_values = (next_state_values * GAMMA) + reward_batch\n",
        "    expected_state_action_values = expected_state_action_values.float()\n",
        "    # print(state_action_values.dtype)\n",
        "    # print(expected_state_action_values.dtype)\n",
        "\n",
        "    # Compute Huber loss\n",
        "    # criterion = nn.SmoothL1Loss()\n",
        "    criterion = nn.MSELoss()\n",
        "    loss = criterion(state_action_values, expected_state_action_values.unsqueeze(1))\n",
        "\n",
        "    # Optimize the model\n",
        "    optimizer.zero_grad()\n",
        "    loss.backward()\n",
        "    # 网络很浅，所以不采用梯度截断\n",
        "    # for param in policy_net.parameters():\n",
        "    #     param.grad.data.clamp_(-1, 1)\n",
        "    optimizer.step()"
      ],
      "metadata": {
        "id": "tWcQl_hzJb1V"
      },
      "execution_count": null,
      "outputs": []
    },
    {
      "cell_type": "markdown",
      "source": [
        "### Train Loop"
      ],
      "metadata": {
        "id": "Qnb2rPw2eo2s"
      }
    },
    {
      "cell_type": "code",
      "source": [
        "# hyperparameters\n",
        "num_episodes = 1000\n",
        "BATCH_SIZE = 64\n",
        "GAMMA = 0.99\n",
        "TARGET_UPDATE = 300 # target networks每多少步更新一次\n",
        "REPLAY_CAPACITY = 50000\n",
        "n_actions = env.action_space.n\n",
        "n_states = env.observation_space.shape[0]\n",
        "policy_net = D3QN(n_states, n_actions)\n",
        "policy_net.train()\n",
        "target_net = D3QN(n_states, n_actions)\n",
        "target_net.load_state_dict(policy_net.state_dict())\n",
        "target_net.eval()\n",
        "optimizer = optim.SGD(policy_net.parameters(), lr=0.001)\n",
        "memory = ReplayMemory(REPLAY_CAPACITY)\n",
        "\n",
        "# utilities\n",
        "import math\n",
        "EPS_START = 0.9\n",
        "EPS_END = 0.05\n",
        "EPS_DECAY = 200\n",
        "steps_done = 0\n",
        "def select_action(state):# epsilon greedy policy\n",
        "    global steps_done\n",
        "    sample = random.random()\n",
        "    eps_threshold = EPS_END + (EPS_START - EPS_END) * \\\n",
        "        math.exp(-1. * steps_done / EPS_DECAY)\n",
        "    steps_done += 1\n",
        "    if sample > eps_threshold:\n",
        "        with torch.no_grad():\n",
        "            # t.max(1) will return largest column value of each row.\n",
        "            # second column on max result is index of where max element was\n",
        "            # found, so we pick action with the larger expected reward.\n",
        "            return policy_net(state).max(1)[1].view(1, 1)\n",
        "    else:\n",
        "        return torch.tensor([[random.randrange(n_actions)]], dtype=torch.long)\n",
        "\n",
        "# trian loop\n",
        "from itertools import count\n",
        "\n",
        "total_rewards, final_rewards = [], []   \n",
        "prg_bar = tqdm(range(num_episodes))\n",
        "for i_episode in prg_bar:\n",
        "    # Initialize the environment and state\n",
        "    state = env.reset()\n",
        "    state = torch.FloatTensor([state])\n",
        "    total_reward = 0\n",
        "    for t in range(2000):# 每轮规定最多走2000步\n",
        "        # Select and perform an action\n",
        "        action = select_action(state)\n",
        "        next_state, reward, done, _ = env.step(action.item())\n",
        "        # 防止一开始飞行器尝试不到平稳降落得100分\n",
        "        if reward==-100:\n",
        "            reward = -3\n",
        "        total_reward += reward\n",
        "        reward = torch.tensor([reward])\n",
        "        next_state = torch.tensor([next_state])\n",
        "        # Observe new state\n",
        "        if done:\n",
        "            next_state = None\n",
        "\n",
        "        # Store the transition in memory\n",
        "        memory.store(state, action, next_state, reward)\n",
        "\n",
        "        # Move to the next state\n",
        "        state = next_state\n",
        "\n",
        "        # Perform one step of the optimization (on the policy network)\n",
        "        train()\n",
        "\n",
        "        if done:\n",
        "            total_rewards.append(total_reward)\n",
        "            final_rewards.append(reward.item())\n",
        "            break\n",
        "        \n",
        "        # Update the target network, copying all weights and biases in DQN\n",
        "        if steps_done % TARGET_UPDATE == 0:\n",
        "            target_net.load_state_dict(policy_net.state_dict())"
      ],
      "metadata": {
        "colab": {
          "base_uri": "https://localhost:8080/",
          "height": 49,
          "referenced_widgets": [
            "d3c99e2e32c74f91abf332a748b39765",
            "2b424229cbcd48b78fa91fd807b9c057",
            "845098f5e94e4af19202c496fc21c489",
            "0fb99936621a458ea0b4bdde8b3827b7",
            "fd07b98217854c949384d6b948caf642",
            "51de31e235464b2cbf6bb401c7ac613a",
            "29221ed50c8248ac9e4befa7a60ccfd0",
            "0d07f76acddb4691878139c8417e232a",
            "d9b78e7b602e4014bdce51e75da7e834",
            "01f78bda2a754106b5cd6d60a6bd2f7b",
            "7537b956727e41659b9e588078981f58"
          ]
        },
        "id": "m8HoTXKxeoUj",
        "outputId": "60383c57-215c-42a3-c916-e201558e206a"
      },
      "execution_count": null,
      "outputs": [
        {
          "output_type": "display_data",
          "data": {
            "application/vnd.jupyter.widget-view+json": {
              "model_id": "d3c99e2e32c74f91abf332a748b39765",
              "version_minor": 0,
              "version_major": 2
            },
            "text/plain": [
              "  0%|          | 0/1000 [00:00<?, ?it/s]"
            ]
          },
          "metadata": {}
        }
      ]
    },
    {
      "cell_type": "markdown",
      "source": [
        "### Test"
      ],
      "metadata": {
        "id": "D5OP5j1U1qjC"
      }
    },
    {
      "cell_type": "code",
      "source": [
        "plt.plot(final_rewards)\n",
        "plt.title(\"final Rewards\")\n",
        "plt.show()"
      ],
      "metadata": {
        "colab": {
          "base_uri": "https://localhost:8080/",
          "height": 281
        },
        "id": "F3w2FyY04YGx",
        "outputId": "ca082bcb-a72c-4dd4-8399-d21cf5fed979"
      },
      "execution_count": null,
      "outputs": [
        {
          "output_type": "display_data",
          "data": {
            "image/png": "[encoded data removed]",
            "text/plain": [
              "<Figure size 432x288 with 1 Axes>"
            ]
          },
          "metadata": {
            "needs_background": "light"
          }
        }
      ]
    },
    {
      "cell_type": "code",
      "source": [
        "policy_net.eval()  # 測試前先將 network 切換為 evaluation 模式\n",
        "\n",
        "total_rewards = []\n",
        "for i in range(200):\n",
        "    state = env.reset()\n",
        "    # img = plt.imshow(env.render(mode='rgb_array'))\n",
        "    total_reward = 0\n",
        "    done = False\n",
        "    while not done:\n",
        "        action = select_action(torch.FloatTensor([state]))\n",
        "        state, reward, done, _ = env.step(action.item())\n",
        "\n",
        "        total_reward += reward\n",
        "\n",
        "        # img.set_data(env.render(mode='rgb_array'))\n",
        "        # display.display(plt.gcf())\n",
        "        # display.clear_output(wait=True)\n",
        "    # print(total_reward)\n",
        "    total_rewards.append(total_reward)\n",
        "print(np.mean(total_rewards))# 200次的平均成绩"
      ],
      "metadata": {
        "colab": {
          "base_uri": "https://localhost:8080/"
        },
        "id": "WV5xY3BlVFPw",
        "outputId": "d1212d56-1686-4028-8fcd-8a26ca373953"
      },
      "execution_count": null,
      "outputs": [
        {
          "output_type": "stream",
          "name": "stdout",
          "text": [
            "254.2907635931527\n"
          ]
        }
      ]
    },
    {
      "cell_type": "code",
      "source": [
        "plt.plot(total_rewards)\n",
        "plt.title(\"Total Rewards\")\n",
        "plt.show()"
      ],
      "metadata": {
        "colab": {
          "base_uri": "https://localhost:8080/",
          "height": 281
        },
        "id": "2y6U_l1f4RQy",
        "outputId": "a5bb9c27-eb88-496f-c3f1-ff16637877ad"
      },
      "execution_count": null,
      "outputs": [
        {
          "output_type": "display_data",
          "data": {
            "image/png": "[encoded data removed]",
            "text/plain": [
              "<Figure size 432x288 with 1 Axes>"
            ]
          },
          "metadata": {
            "needs_background": "light"
          }
        }
      ]
    },
    {
      "cell_type": "markdown",
      "source": [
        "整体来说D3QN还是非常给力（其实只用了DQN，不知道为什么double DQN效果比DQN差好多，用dueling DQN直接崩掉，但是也是一路方法啦。真的试了好久但是就是train不出来，我哭死），训练效果比policy-based方法好的多，每个episode的mean total reward达到了250左右，按照目标达到200就成功了，网上有更多牛人跑到了280左右，作者再次就不再细究了，直接去写a2c方法完成作业。\n",
        "\n",
        "要注意的是，在训练过程中，为了防止模型一直不知道静止降落可以拿100分，只知道坠毁，所以把坠毁的reward改成了-3。"
      ],
      "metadata": {
        "id": "1BbLMX7ztt3q"
      }
    },
    {
      "cell_type": "markdown",
      "source": [
        "## REINFORCE with baseline\n",
        "参考：https://iamarookie.blog.csdn.net/article/details/120426499?spm=1001.2101.3001.6650.5&utm_medium=distribute.pc_relevant.none-task-blog-2%7Edefault%7EBlogCommendFromBaidu%7ERate-5.pc_relevant_default&depth_1-utm_source=distribute.pc_relevant.none-task-blog-2%7Edefault%7EBlogCommendFromBaidu%7ERate-5.pc_relevant_default&utm_relevant_index=10"
      ],
      "metadata": {
        "id": "h8djzMXdY9yo"
      }
    },
    {
      "cell_type": "markdown",
      "source": [
        "### Replay Buffer"
      ],
      "metadata": {
        "id": "Aj0Evw5C5NAr"
      }
    },
    {
      "cell_type": "code",
      "source": [
        "class Memory:\n",
        "    def __init__(self):\n",
        "        \"\"\"初始化\"\"\"\n",
        "        self.actions = []  # 行动(共4种)\n",
        "        self.states = []  # 状态, 由8个数字组成\n",
        "        self.logprobs = []  # 概率\n",
        "        self.rewards = []  # 奖励\n",
        "        self.is_terminals = []  # 游戏是否结束\n",
        "\n",
        "    def clear_memory(self):\n",
        "        \"\"\"清除memory\"\"\"\n",
        "        del self.actions[:]\n",
        "        del self.states[:]\n",
        "        del self.logprobs[:]\n",
        "        del self.rewards[:]\n",
        "        del self.is_terminals[:]"
      ],
      "metadata": {
        "id": "DZYsOrOf5SPd"
      },
      "execution_count": 1,
      "outputs": []
    },
    {
      "cell_type": "markdown",
      "source": [
        "### Model\n",
        "state比较简单，所以没有两者共用参数"
      ],
      "metadata": {
        "id": "XkFWSYyS2Nxq"
      }
    },
    {
      "cell_type": "code",
      "source": [
        "class ActorCritic(nn.Module):\n",
        "    def __init__(self, state_dim, action_dim, n_latent_var):\n",
        "        super(ActorCritic, self).__init__()\n",
        "\n",
        "        # 行动\n",
        "        self.action_layer = nn.Sequential(\n",
        "            # [b, 8] => [b, 64]\n",
        "            nn.Linear(state_dim, n_latent_var),\n",
        "            nn.Tanh(),  # 激活\n",
        "\n",
        "            # [b, 64] => [b, 64]\n",
        "            nn.Linear(n_latent_var, n_latent_var),\n",
        "            nn.Tanh(),  # 激活\n",
        "\n",
        "            # [b, 64] => [b, 4]\n",
        "            nn.Linear(n_latent_var, action_dim),\n",
        "            nn.Softmax(dim=-1)\n",
        "        )\n",
        "\n",
        "        # 评判\n",
        "        self.value_layer = nn.Sequential(\n",
        "            # [b, 8] => [8, 64]\n",
        "            nn.Linear(state_dim, n_latent_var),\n",
        "            nn.Tanh(),  # 激活\n",
        "\n",
        "            # [b, 64] => [b, 64]\n",
        "            nn.Linear(n_latent_var, n_latent_var),\n",
        "            nn.Tanh(),\n",
        "\n",
        "            # [b, 64] => [b, 1]\n",
        "            nn.Linear(n_latent_var, 1)\n",
        "        )\n",
        "\n",
        "    def forward(self):\n",
        "        \"\"\"前向传播, 由act替代\"\"\"\n",
        "\n",
        "        raise NotImplementedError\n",
        "\n",
        "    def act(self, state, memory):\n",
        "        \"\"\"计算行动\"\"\"\n",
        "\n",
        "        # 转成张量\n",
        "        state = torch.from_numpy(state).float()\n",
        "\n",
        "        # 计算4个方向概率\n",
        "        action_probs = self.action_layer(state)\n",
        "\n",
        "        # 通过最大概率计算最终行动方向\n",
        "        dist = Categorical(action_probs)\n",
        "        action = dist.sample()\n",
        "\n",
        "        # 存入memory\n",
        "        memory.states.append(state)\n",
        "        memory.actions.append(action)\n",
        "        memory.logprobs.append(dist.log_prob(action))\n",
        "\n",
        "        # 返回行动\n",
        "        return action.item()\n",
        "\n",
        "    def evaluate(self, state, action):\n",
        "        \"\"\"\n",
        "        评估\n",
        "        :param state: 状态, 2000个一组, 形状为 [2000, 8]\n",
        "        :param action: 行动, 2000个一组, 形状为 [2000]\n",
        "        :return:\n",
        "        \"\"\"\n",
        "\n",
        "        # 计算行动概率\n",
        "        action_probs = self.action_layer(state)\n",
        "        dist = Categorical(action_probs)  # 转换成类别分布\n",
        "\n",
        "        # 计算概率密度, log(概率)\n",
        "        action_logprobs = dist.log_prob(action)\n",
        "\n",
        "        # 计算熵\n",
        "        dist_entropy = dist.entropy()\n",
        "\n",
        "        # 评判\n",
        "        state_value = self.value_layer(state)\n",
        "        state_value = torch.squeeze(state_value)  # [2000, 1] => [2000]\n",
        "\n",
        "        # 返回行动概率密度, 评判值, 行动概率熵\n",
        "        return action_logprobs, state_value, dist_entropy"
      ],
      "metadata": {
        "id": "qup6_QvF7Ng7"
      },
      "execution_count": 5,
      "outputs": []
    },
    {
      "cell_type": "markdown",
      "source": [
        "### PPO\n"
      ],
      "metadata": {
        "id": "Jv2sYzFm2wPz"
      }
    },
    {
      "cell_type": "code",
      "source": [
        "class PPO:\n",
        "    def __init__(self, state_dim, action_dim, n_latent_var, lr, betas, gamma, K_epochs, eps_clip):\n",
        "        self.lr = lr  # 学习率\n",
        "        self.betas = betas  # betas\n",
        "        self.gamma = gamma  # gamma\n",
        "        self.eps_clip = eps_clip  # 裁剪, 限制值范围\n",
        "        self.K_epochs = K_epochs  # 迭代次数\n",
        "\n",
        "        # 初始化policy\n",
        "        self.policy = ActorCritic(state_dim, action_dim, n_latent_var)\n",
        "        self.policy_old = ActorCritic(state_dim, action_dim, n_latent_var)\n",
        "        self.policy_old.load_state_dict(self.policy.state_dict())\n",
        "\n",
        "        self.optimizer = torch.optim.Adam(self.policy.parameters(), lr=lr, betas=betas)  # 优化器\n",
        "        self.MseLoss = nn.MSELoss()  # 损失函数\n",
        "\n",
        "    def update(self, memory):\n",
        "        \"\"\"更新梯度\"\"\"\n",
        "\n",
        "        # 蒙特卡罗预测状态回报\n",
        "        rewards = []\n",
        "        discounted_reward = 0\n",
        "        for reward, is_terminal in zip(reversed(memory.rewards), reversed(memory.is_terminals)):\n",
        "            # 回合结束\n",
        "            if is_terminal:\n",
        "                discounted_reward = 0\n",
        "\n",
        "            # 更新削减奖励(当前状态奖励 + 0.99*上一状态奖励\n",
        "            discounted_reward = reward + (self.gamma * discounted_reward)\n",
        "\n",
        "            # 首插入\n",
        "            rewards.insert(0, discounted_reward)\n",
        "\n",
        "        # 标准化奖励\n",
        "        rewards = torch.tensor(rewards, dtype=torch.float32)\n",
        "        rewards = (rewards - rewards.mean()) / (rewards.std() + 1e-5)\n",
        "\n",
        "        # 张量转换\n",
        "        old_states = torch.stack(memory.states).detach()\n",
        "        old_actions = torch.stack(memory.actions).detach()\n",
        "        old_logprobs = torch.stack(memory.logprobs).detach()\n",
        "\n",
        "        # 迭代优化 K 次:\n",
        "        for _ in range(self.K_epochs):\n",
        "            # 评估\n",
        "            logprobs, state_values, dist_entropy = self.policy.evaluate(old_states, old_actions)\n",
        "\n",
        "            # 计算ratios\n",
        "            ratios = torch.exp(logprobs - old_logprobs.detach())\n",
        "\n",
        "            # 计算损失\n",
        "            advantages = rewards - state_values.detach()\n",
        "            surr1 = ratios * advantages\n",
        "            surr2 = torch.clamp(ratios, 1 - self.eps_clip, 1 + self.eps_clip) * advantages\n",
        "            # 为何要加dist_entropy这一项呢？我们想要在 agent 与 environment 进行互动的过程中，平衡 探索和利用，\n",
        "            # 我们想去以一定的几率来尝试其他的 action，从而不至于采样得到的样本太过于集中。所以，引入这个 entropy，来使得输出的分布，能够更加的平衡。\n",
        "            loss = -torch.min(surr1, surr2) + 0.5 * self.MseLoss(state_values, rewards) - 0.01 * dist_entropy\n",
        "\n",
        "            # 梯度清零\n",
        "            self.optimizer.zero_grad()\n",
        "\n",
        "            # 反向传播\n",
        "            loss.mean().backward()\n",
        "\n",
        "            # 更新梯度\n",
        "            self.optimizer.step()\n",
        "\n",
        "        # 将新的权重赋值给旧policy\n",
        "        self.policy_old.load_state_dict(self.policy.state_dict())"
      ],
      "metadata": {
        "id": "pgkP6f5gSGH-"
      },
      "execution_count": 15,
      "outputs": []
    },
    {
      "cell_type": "markdown",
      "source": [
        "### Train Loop"
      ],
      "metadata": {
        "id": "3cTL0lfu86Gh"
      }
    },
    {
      "cell_type": "code",
      "source": [
        "# hyperparameters\n",
        "state_dim = 8  # 状态维度\n",
        "action_dim = 4  # 行动维度\n",
        "solved_reward = 230  # 停止循环条件 (奖励 > 230)\n",
        "log_interval = 100  # print avg reward in the interval\n",
        "max_episodes = 50000  # 最大迭代次数\n",
        "max_timesteps = 2000  # 最大单次游戏步数\n",
        "n_latent_var = 64  # 全连接隐层维度\n",
        "update_timestep = 2000  # 每2000步policy更新一次\n",
        "lr = 0.002  # 学习率\n",
        "betas = (0.9, 0.999)  # betas\n",
        "gamma = 0.99  # gamma\n",
        "K_epochs = 4  # policy迭代更新次数\n",
        "eps_clip = 0.2  # PPO 限幅\n",
        "\n",
        "\n",
        "\n",
        "total_rewards, final_rewards = [], []\n",
        "total_rewards_window = deque([], maxlen=log_interval)\n",
        "memory = Memory()\n",
        "ppo = PPO(state_dim, action_dim, n_latent_var, lr, betas, gamma, K_epochs, eps_clip)\n",
        "timestep = 0\n",
        "\n",
        "# 训练\n",
        "prg_bar = tqdm(range(1, max_episodes+1))\n",
        "for i_episode in prg_bar:\n",
        "    # 环境初始化\n",
        "    state = env.reset()  # 初始化（重新玩）\n",
        "    total_reward = 0\n",
        "\n",
        "    # 迭代\n",
        "    for t in range(max_timesteps):\n",
        "        timestep += 1\n",
        "\n",
        "        # 用旧policy得到行动\n",
        "        action = ppo.policy_old.act(state, memory)\n",
        "\n",
        "        # 行动\n",
        "        state, reward, done, _ = env.step(action)  # 得到（新的状态，奖励，是否终止，额外的调试信息）\n",
        "\n",
        "        # 更新memory(奖励/游戏是否结束)\n",
        "        memory.rewards.append(reward)\n",
        "        memory.is_terminals.append(done)\n",
        "\n",
        "        # 更新梯度\n",
        "        if timestep % update_timestep == 0:\n",
        "            ppo.update(memory)\n",
        "            \n",
        "            # memory清零\n",
        "            memory.clear_memory()\n",
        "\n",
        "            # 累计步数清零\n",
        "            timestep = 0\n",
        "        \n",
        "        # 累加\n",
        "        total_reward += reward\n",
        "\n",
        "        # 如果游戏结束, 退出\n",
        "        if done:\n",
        "            total_rewards.append(total_reward)\n",
        "            total_rewards_window.append(total_reward)\n",
        "            final_rewards.append(reward)\n",
        "            break\n",
        "        \n",
        "\n",
        "    # 如果达到要求(230分), 退出循环\n",
        "    if np.mean(total_rewards_window) >= solved_reward:\n",
        "        print(\"########## Solved! ##########\")\n",
        "\n",
        "        # # 保存模型\n",
        "        # torch.save(ppo.policy.state_dict(), './PPO_{}.pth'.format(env_name))\n",
        "\n",
        "        # 退出循环\n",
        "        break\n",
        "\n",
        "    # 输出log, 每200次迭代\n",
        "    if i_episode % log_interval == 0:\n",
        "            \n",
        "        # 输出200次迭代平均时长/收益\n",
        "        print('Episode {} \\t average_reward: {}'.format(i_episode, np.mean(total_rewards_window)))"
      ],
      "metadata": {
        "colab": {
          "base_uri": "https://localhost:8080/",
          "height": 1000,
          "referenced_widgets": [
            "f5c3ed06fadf4eaba061f0cd1037638a",
            "42ee94d482c944b8ab669de2fd1befba",
            "ebbfe6e7d0a547559d9f45b5fb7dd4e0",
            "4033b4bdb40d4290bedba2c9b350b71a",
            "e39398719e154c738ad819d0192d97f3",
            "728efd8edbaf47649bfe877919382204",
            "ad1ddbedc1ab44b095899910e4874da3",
            "cf0e8d5924e64cec99db49824da2359b",
            "dcb54f17b62d494fa487e2dd353b7915",
            "c65c16fab6e641a48af097d4c2de657d",
            "00265ebfaaef41faa2aad9b5749851eb"
          ]
        },
        "id": "zPanTuu3_9R1",
        "outputId": "463e2fb5-1007-4f88-b888-60630b3098c8"
      },
      "execution_count": 16,
      "outputs": [
        {
          "data": {
            "application/vnd.jupyter.widget-view+json": {
              "model_id": "f5c3ed06fadf4eaba061f0cd1037638a",
              "version_major": 2,
              "version_minor": 0
            },
            "text/plain": [
              "  0%|          | 0/50000 [00:00<?, ?it/s]"
            ]
          },
          "metadata": {},
          "output_type": "display_data"
        },
        {
          "output_type": "stream",
          "name": "stdout",
          "text": [
            "Episode 100 \t average_reward: -162.34080338687784\n",
            "Episode 200 \t average_reward: -129.43977099555624\n",
            "Episode 300 \t average_reward: -133.26005363409357\n",
            "Episode 400 \t average_reward: -73.89905456441804\n",
            "Episode 500 \t average_reward: -47.80775806667395\n",
            "Episode 600 \t average_reward: 23.716706358275122\n",
            "Episode 700 \t average_reward: 81.74906030877581\n",
            "Episode 800 \t average_reward: 68.34978036159563\n",
            "Episode 900 \t average_reward: 98.78698862594179\n",
            "Episode 1000 \t average_reward: 47.09617060334069\n",
            "Episode 1100 \t average_reward: 97.06485224505457\n",
            "Episode 1200 \t average_reward: 118.2956907616078\n",
            "Episode 1300 \t average_reward: 102.4080090139284\n",
            "Episode 1400 \t average_reward: 111.45218271783992\n",
            "Episode 1500 \t average_reward: 134.44334866104694\n",
            "Episode 1600 \t average_reward: 119.99197728817718\n",
            "Episode 1700 \t average_reward: 73.29422111445474\n",
            "Episode 1800 \t average_reward: 85.43582877014636\n",
            "Episode 1900 \t average_reward: 83.07247051115043\n",
            "Episode 2000 \t average_reward: 108.43675251616287\n",
            "Episode 2100 \t average_reward: 122.59155573908183\n",
            "Episode 2200 \t average_reward: 114.2416708338421\n",
            "Episode 2300 \t average_reward: 111.76832952748377\n",
            "Episode 2400 \t average_reward: 129.52802778772883\n",
            "Episode 2500 \t average_reward: 109.34777842042777\n",
            "Episode 2600 \t average_reward: 118.28165047696803\n",
            "Episode 2700 \t average_reward: 126.5050396469054\n",
            "Episode 2800 \t average_reward: 101.13124307916424\n",
            "Episode 2900 \t average_reward: 86.51921033949554\n",
            "Episode 3000 \t average_reward: 104.94537668717331\n",
            "Episode 3100 \t average_reward: 124.0184300661768\n",
            "Episode 3200 \t average_reward: 138.6071836504995\n",
            "Episode 3300 \t average_reward: 115.38688885376015\n",
            "Episode 3400 \t average_reward: 113.36594702796964\n",
            "Episode 3500 \t average_reward: 121.24091154196893\n",
            "Episode 3600 \t average_reward: 135.88880517010767\n",
            "Episode 3700 \t average_reward: 115.82654937625713\n",
            "Episode 3800 \t average_reward: 117.8198722239626\n",
            "Episode 3900 \t average_reward: 105.35163498240189\n",
            "Episode 4000 \t average_reward: 123.57974091213345\n",
            "Episode 4100 \t average_reward: 80.14540554474344\n",
            "Episode 4200 \t average_reward: 105.71643065474039\n",
            "Episode 4300 \t average_reward: 86.78388894510883\n",
            "Episode 4400 \t average_reward: 85.27569635965465\n",
            "Episode 4500 \t average_reward: 98.90066654709486\n",
            "Episode 4600 \t average_reward: 100.15166888947522\n",
            "Episode 4700 \t average_reward: 99.38762377932278\n",
            "Episode 4800 \t average_reward: 93.66923944081\n",
            "Episode 4900 \t average_reward: 102.74461215464767\n",
            "Episode 5000 \t average_reward: 136.29509326998502\n",
            "Episode 5100 \t average_reward: 119.00149681809138\n",
            "Episode 5200 \t average_reward: 129.67790726759674\n",
            "Episode 5300 \t average_reward: 99.79065837260356\n",
            "Episode 5400 \t average_reward: 110.61112346512331\n",
            "Episode 5500 \t average_reward: 126.87660889053994\n",
            "Episode 5600 \t average_reward: 124.86868283248563\n",
            "Episode 5700 \t average_reward: 92.00864980039846\n",
            "Episode 5800 \t average_reward: 95.72118891457897\n",
            "Episode 5900 \t average_reward: 112.49808916888632\n",
            "Episode 6000 \t average_reward: 113.89352215224844\n",
            "Episode 6100 \t average_reward: 75.99047023303318\n",
            "Episode 6200 \t average_reward: 104.97770129368361\n",
            "Episode 6300 \t average_reward: 136.95023751841507\n",
            "Episode 6400 \t average_reward: 118.72847594145098\n",
            "Episode 6500 \t average_reward: 99.5468260319015\n",
            "Episode 6600 \t average_reward: 91.10276680194413\n",
            "Episode 6700 \t average_reward: 69.02338659864469\n",
            "Episode 6800 \t average_reward: 111.05252660733771\n",
            "Episode 6900 \t average_reward: 99.66393967261035\n",
            "Episode 7000 \t average_reward: 68.76495414231819\n",
            "Episode 7100 \t average_reward: 97.27016615272383\n",
            "Episode 7200 \t average_reward: 120.34540320433398\n",
            "Episode 7300 \t average_reward: 116.27804619299187\n",
            "Episode 7400 \t average_reward: 122.62775158240166\n",
            "Episode 7500 \t average_reward: 120.63765885971561\n",
            "Episode 7600 \t average_reward: 67.43810898042416\n",
            "Episode 7700 \t average_reward: 110.37429670445917\n",
            "Episode 7800 \t average_reward: 123.39287217464788\n",
            "Episode 7900 \t average_reward: 134.0006845439947\n",
            "Episode 8000 \t average_reward: 114.92771680261605\n",
            "Episode 8100 \t average_reward: 128.01980320081782\n",
            "Episode 8200 \t average_reward: 125.57366756184207\n",
            "Episode 8300 \t average_reward: 115.00193939632676\n",
            "Episode 8400 \t average_reward: 95.17918150131021\n",
            "Episode 8500 \t average_reward: 105.4964924976613\n",
            "Episode 8600 \t average_reward: 92.07056758362243\n",
            "Episode 8700 \t average_reward: 119.0736103170838\n",
            "Episode 8800 \t average_reward: 99.47294105534074\n",
            "Episode 8900 \t average_reward: 91.86859218358099\n",
            "Episode 9000 \t average_reward: 115.34619341451294\n",
            "Episode 9100 \t average_reward: 135.30229407571326\n",
            "Episode 9200 \t average_reward: 134.2922032955021\n",
            "Episode 9300 \t average_reward: 137.54154880968446\n",
            "Episode 9400 \t average_reward: 134.69595930289674\n",
            "Episode 9500 \t average_reward: 138.3450279268322\n",
            "Episode 9600 \t average_reward: 130.4132848567922\n",
            "Episode 9700 \t average_reward: 150.01058728575646\n",
            "Episode 9800 \t average_reward: 136.91095598391058\n",
            "Episode 9900 \t average_reward: 110.60169986867844\n",
            "Episode 10000 \t average_reward: 114.31151576584261\n",
            "Episode 10100 \t average_reward: 92.28647275453696\n",
            "Episode 10200 \t average_reward: 94.1130148944016\n",
            "Episode 10300 \t average_reward: 156.9844985302617\n",
            "Episode 10400 \t average_reward: 169.9530459010493\n",
            "Episode 10500 \t average_reward: 179.35305220483824\n",
            "Episode 10600 \t average_reward: 150.9516007710841\n",
            "Episode 10700 \t average_reward: 79.23653827409487\n",
            "Episode 10800 \t average_reward: 123.29127474221532\n",
            "Episode 10900 \t average_reward: 170.19269490442315\n",
            "Episode 11000 \t average_reward: 202.37973701407842\n",
            "Episode 11100 \t average_reward: 177.44270603489116\n",
            "Episode 11200 \t average_reward: 166.56379296446684\n",
            "Episode 11300 \t average_reward: 182.4597930309007\n",
            "Episode 11400 \t average_reward: 159.53448782559838\n",
            "Episode 11500 \t average_reward: 201.51701420703887\n",
            "Episode 11600 \t average_reward: 202.1292794917333\n",
            "Episode 11700 \t average_reward: 171.0703306789918\n",
            "Episode 11800 \t average_reward: 175.60246328798814\n",
            "Episode 11900 \t average_reward: 152.52445972135553\n",
            "Episode 12000 \t average_reward: 161.20950359641233\n",
            "Episode 12100 \t average_reward: 193.49698558732482\n",
            "Episode 12200 \t average_reward: 192.97411747407176\n",
            "Episode 12300 \t average_reward: 211.75009598371435\n",
            "Episode 12400 \t average_reward: 214.81902665865528\n",
            "Episode 12500 \t average_reward: 198.3080871267972\n",
            "Episode 12600 \t average_reward: 171.40565201587233\n",
            "Episode 12700 \t average_reward: 199.65630476724934\n",
            "Episode 12800 \t average_reward: 191.39804286758383\n",
            "Episode 12900 \t average_reward: 181.629283575196\n",
            "Episode 13000 \t average_reward: 158.6095335642146\n",
            "Episode 13100 \t average_reward: 190.03727759799983\n",
            "Episode 13200 \t average_reward: 215.2065818971272\n",
            "Episode 13300 \t average_reward: 172.4411877295843\n",
            "Episode 13400 \t average_reward: 175.86880065647486\n",
            "Episode 13500 \t average_reward: 205.31526828870744\n",
            "Episode 13600 \t average_reward: 193.8131719377885\n",
            "Episode 13700 \t average_reward: 220.5472570879738\n",
            "Episode 13800 \t average_reward: 200.77322708441568\n",
            "Episode 13900 \t average_reward: 205.56027904139484\n",
            "########## Solved! ##########\n"
          ]
        }
      ]
    },
    {
      "cell_type": "markdown",
      "source": [
        "### Test"
      ],
      "metadata": {
        "id": "2IgmqbUgpy91"
      }
    },
    {
      "cell_type": "code",
      "source": [
        "plt.plot(total_rewards)\n",
        "plt.title(\"Total Rewards\")\n",
        "plt.show()"
      ],
      "metadata": {
        "colab": {
          "base_uri": "https://localhost:8080/",
          "height": 281
        },
        "id": "ZFDCPmdMp0vY",
        "outputId": "a9c3b2e1-3058-4802-a75e-e337ff2fc470"
      },
      "execution_count": 17,
      "outputs": [
        {
          "output_type": "display_data",
          "data": {
            "image/png": "[encoded data removed]",
            "text/plain": [
              "<Figure size 432x288 with 1 Axes>"
            ]
          },
          "metadata": {
            "needs_background": "light"
          }
        }
      ]
    },
    {
      "cell_type": "code",
      "source": [
        "plt.plot(final_rewards)\n",
        "plt.title(\"final Rewards\")\n",
        "plt.show()"
      ],
      "metadata": {
        "colab": {
          "base_uri": "https://localhost:8080/",
          "height": 281
        },
        "id": "KQE7zXHmtbAg",
        "outputId": "287aecc6-7cdd-4b2a-887b-e00ca84f7167"
      },
      "execution_count": 18,
      "outputs": [
        {
          "output_type": "display_data",
          "data": {
            "image/png": "[encoded data removed]",
            "text/plain": [
              "<Figure size 432x288 with 1 Axes>"
            ]
          },
          "metadata": {
            "needs_background": "light"
          }
        }
      ]
    },
    {
      "cell_type": "markdown",
      "source": [
        "AC方法也不负众望，train到均分230啦，之所以没train更高，是因为不想train了哈哈，因为真的要train太久了，相信只要有足够的iterations，AC方法也可以达到280分。\n",
        "\n",
        "写完作业下班啦。"
      ],
      "metadata": {
        "id": "4uZw8343gKCd"
      }
    }
  ]
}